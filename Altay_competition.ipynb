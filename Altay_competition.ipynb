{
 "cells": [
  {
   "cell_type": "markdown",
   "metadata": {},
   "source": [
    "# Прогнозирование статуса студента"
   ]
  },
  {
   "cell_type": "markdown",
   "metadata": {},
   "source": [
    "На основе данных об абитуриенте, необходимо разработать модель, которая будет предсказывать текущий\n",
    "статус студента, а именно:\n",
    "- продолжит ли студент обучение\n",
    "- отчислится\n",
    "- возьмет академический отпуск\n",
    "\n",
    "Решение задачи будем осуществлять в следующей последовательности:\n",
    "1. Загрузка и первичный анализ данных.\n",
    "2. Подготовка данных к обучению модели.\n",
    "3. Построение модели машинного обучения.\n",
    "4. Формирование файла с ответом, анализ результата и вывод"
   ]
  },
  {
   "cell_type": "code",
   "execution_count": 1,
   "metadata": {
    "id": "MTgpe_1quUDs"
   },
   "outputs": [],
   "source": [
    "# Загрузим нужные библиотеки\n",
    "import pandas as pd\n",
    "import seaborn as sns\n",
    "import matplotlib.pyplot as plt\n",
    "from sklearn.model_selection import train_test_split\n",
    "from sklearn.ensemble import RandomForestClassifier\n",
    "from sklearn import tree\n",
    "import numpy as np\n",
    "from sklearn.metrics import f1_score\n",
    "from sklearn.compose import ColumnTransformer\n",
    "from sklearn.preprocessing import OneHotEncoder, OrdinalEncoder, StandardScaler, PowerTransformer, MinMaxScaler, Normalizer\n",
    "from sklearn.model_selection import RandomizedSearchCV, cross_val_score, GridSearchCV\n",
    "import re\n",
    "from random import randint\n",
    "from catboost import CatBoostClassifier, Pool, cv\n",
    "from sklearn.linear_model import LogisticRegression\n",
    "\n",
    "# from sklearn.ensemble import StackingClassifier, VotingClassifier\n",
    "\n",
    "from lightgbm import LGBMClassifier\n",
    "from xgboost import XGBClassifier\n",
    "\n",
    "import shap\n",
    "# %matplotlib inline"
   ]
  },
  {
   "cell_type": "code",
   "execution_count": 2,
   "metadata": {},
   "outputs": [],
   "source": [
    "# pip install XGBoost"
   ]
  },
  {
   "cell_type": "code",
   "execution_count": 3,
   "metadata": {},
   "outputs": [],
   "source": [
    "# pip install shap"
   ]
  },
  {
   "cell_type": "markdown",
   "metadata": {
    "id": "GgCS5B_PutbW"
   },
   "source": [
    "## 1. Загрузка и первичный анализ данных"
   ]
  },
  {
   "cell_type": "code",
   "execution_count": 4,
   "metadata": {
    "id": "o9N4JbcWudk2",
    "tags": []
   },
   "outputs": [],
   "source": [
    "# Загрузка данных\n",
    "df = pd.read_csv(\"train_dataset_train.csv\", parse_dates=['Дата_Рождения'])\n",
    "df_test = pd.read_csv(\"test_dataset_test.csv\", parse_dates=['Дата_Рождения'])\n",
    "df_submission = pd.read_csv(\"sample_submission.csv\")"
   ]
  },
  {
   "cell_type": "code",
   "execution_count": 5,
   "metadata": {
    "colab": {
     "base_uri": "https://localhost:8080/",
     "height": 306
    },
    "id": "qEvfySMMutBR",
    "outputId": "4dfb8e9e-8953-4111-d155-30994b74e6b2"
   },
   "outputs": [
    {
     "data": {
      "text/html": [
       "<div>\n",
       "<style scoped>\n",
       "    .dataframe tbody tr th:only-of-type {\n",
       "        vertical-align: middle;\n",
       "    }\n",
       "\n",
       "    .dataframe tbody tr th {\n",
       "        vertical-align: top;\n",
       "    }\n",
       "\n",
       "    .dataframe thead th {\n",
       "        text-align: right;\n",
       "    }\n",
       "</style>\n",
       "<table border=\"1\" class=\"dataframe\">\n",
       "  <thead>\n",
       "    <tr style=\"text-align: right;\">\n",
       "      <th></th>\n",
       "      <th>ID</th>\n",
       "      <th>Код_группы</th>\n",
       "      <th>Год_Поступления</th>\n",
       "      <th>Пол</th>\n",
       "      <th>Основания</th>\n",
       "      <th>Изучаемый_Язык</th>\n",
       "      <th>Дата_Рождения</th>\n",
       "      <th>Уч_Заведение</th>\n",
       "      <th>Где_Находится_УЗ</th>\n",
       "      <th>Год_Окончания_УЗ</th>\n",
       "      <th>...</th>\n",
       "      <th>Общежитие</th>\n",
       "      <th>Наличие_Матери</th>\n",
       "      <th>Наличие_Отца</th>\n",
       "      <th>Страна_Родители</th>\n",
       "      <th>Опекунство</th>\n",
       "      <th>Село</th>\n",
       "      <th>Иностранец</th>\n",
       "      <th>КодФакультета</th>\n",
       "      <th>СрБаллАттестата</th>\n",
       "      <th>Статус</th>\n",
       "    </tr>\n",
       "  </thead>\n",
       "  <tbody>\n",
       "    <tr>\n",
       "      <th>0</th>\n",
       "      <td>72716</td>\n",
       "      <td>16019</td>\n",
       "      <td>2015</td>\n",
       "      <td>Жен</td>\n",
       "      <td>ОО</td>\n",
       "      <td>Английский язык</td>\n",
       "      <td>1998-02-08</td>\n",
       "      <td>МБОУ \"СОШ №59\"</td>\n",
       "      <td>Алтайский край, Барнаул г</td>\n",
       "      <td>2014.0</td>\n",
       "      <td>...</td>\n",
       "      <td>0.0</td>\n",
       "      <td>0</td>\n",
       "      <td>0.0</td>\n",
       "      <td>Россия</td>\n",
       "      <td>0.0</td>\n",
       "      <td>0.0</td>\n",
       "      <td>0.0</td>\n",
       "      <td>41.0</td>\n",
       "      <td>4.294</td>\n",
       "      <td>3</td>\n",
       "    </tr>\n",
       "    <tr>\n",
       "      <th>1</th>\n",
       "      <td>63306</td>\n",
       "      <td>14895</td>\n",
       "      <td>2010</td>\n",
       "      <td>Муж</td>\n",
       "      <td>ЦН</td>\n",
       "      <td>NaN</td>\n",
       "      <td>1992-04-18</td>\n",
       "      <td>NaN</td>\n",
       "      <td>NaN</td>\n",
       "      <td>NaN</td>\n",
       "      <td>...</td>\n",
       "      <td>0.0</td>\n",
       "      <td>1</td>\n",
       "      <td>1.0</td>\n",
       "      <td>Россия</td>\n",
       "      <td>0.0</td>\n",
       "      <td>0.0</td>\n",
       "      <td>0.0</td>\n",
       "      <td>28.0</td>\n",
       "      <td>67.000</td>\n",
       "      <td>4</td>\n",
       "    </tr>\n",
       "    <tr>\n",
       "      <th>2</th>\n",
       "      <td>82469</td>\n",
       "      <td>20103</td>\n",
       "      <td>2017</td>\n",
       "      <td>Жен</td>\n",
       "      <td>ДН</td>\n",
       "      <td>Английский язык</td>\n",
       "      <td>1999-03-21</td>\n",
       "      <td>МБОУ Алтайская СОШ №5</td>\n",
       "      <td>Алтайский край, Алтайский р-н, Алтайское с</td>\n",
       "      <td>2017.0</td>\n",
       "      <td>...</td>\n",
       "      <td>0.0</td>\n",
       "      <td>1</td>\n",
       "      <td>1.0</td>\n",
       "      <td>Россия</td>\n",
       "      <td>0.0</td>\n",
       "      <td>0.0</td>\n",
       "      <td>0.0</td>\n",
       "      <td>41.0</td>\n",
       "      <td>4.133</td>\n",
       "      <td>4</td>\n",
       "    </tr>\n",
       "  </tbody>\n",
       "</table>\n",
       "<p>3 rows × 24 columns</p>\n",
       "</div>"
      ],
      "text/plain": [
       "      ID  Код_группы  Год_Поступления  Пол Основания   Изучаемый_Язык  \\\n",
       "0  72716       16019             2015  Жен        ОО  Английский язык   \n",
       "1  63306       14895             2010  Муж        ЦН              NaN   \n",
       "2  82469       20103             2017  Жен        ДН  Английский язык   \n",
       "\n",
       "  Дата_Рождения           Уч_Заведение  \\\n",
       "0    1998-02-08         МБОУ \"СОШ №59\"   \n",
       "1    1992-04-18                    NaN   \n",
       "2    1999-03-21  МБОУ Алтайская СОШ №5   \n",
       "\n",
       "                             Где_Находится_УЗ  Год_Окончания_УЗ  ...  \\\n",
       "0                   Алтайский край, Барнаул г            2014.0  ...   \n",
       "1                                         NaN               NaN  ...   \n",
       "2  Алтайский край, Алтайский р-н, Алтайское с            2017.0  ...   \n",
       "\n",
       "   Общежитие Наличие_Матери Наличие_Отца Страна_Родители  Опекунство  Село  \\\n",
       "0        0.0              0          0.0          Россия         0.0   0.0   \n",
       "1        0.0              1          1.0          Россия         0.0   0.0   \n",
       "2        0.0              1          1.0          Россия         0.0   0.0   \n",
       "\n",
       "   Иностранец КодФакультета  СрБаллАттестата  Статус  \n",
       "0         0.0          41.0            4.294       3  \n",
       "1         0.0          28.0           67.000       4  \n",
       "2         0.0          41.0            4.133       4  \n",
       "\n",
       "[3 rows x 24 columns]"
      ]
     },
     "execution_count": 5,
     "metadata": {},
     "output_type": "execute_result"
    }
   ],
   "source": [
    "df.head(3)"
   ]
  },
  {
   "cell_type": "code",
   "execution_count": 6,
   "metadata": {
    "colab": {
     "base_uri": "https://localhost:8080/"
    },
    "id": "NUHy7c-tuegn",
    "outputId": "dd85bd2d-aaf9-439b-eae5-d026a915f841"
   },
   "outputs": [
    {
     "name": "stdout",
     "output_type": "stream",
     "text": [
      "<class 'pandas.core.frame.DataFrame'>\n",
      "RangeIndex: 13584 entries, 0 to 13583\n",
      "Data columns (total 24 columns):\n",
      " #   Column            Non-Null Count  Dtype         \n",
      "---  ------            --------------  -----         \n",
      " 0   ID                13584 non-null  int64         \n",
      " 1   Код_группы        13584 non-null  int64         \n",
      " 2   Год_Поступления   13584 non-null  int64         \n",
      " 3   Пол               13577 non-null  object        \n",
      " 4   Основания         13584 non-null  object        \n",
      " 5   Изучаемый_Язык    12758 non-null  object        \n",
      " 6   Дата_Рождения     13584 non-null  datetime64[ns]\n",
      " 7   Уч_Заведение      12351 non-null  object        \n",
      " 8   Где_Находится_УЗ  12203 non-null  object        \n",
      " 9   Год_Окончания_УЗ  12284 non-null  float64       \n",
      " 10  Пособие           12576 non-null  float64       \n",
      " 11  Страна_ПП         13237 non-null  object        \n",
      " 12  Регион_ПП         12966 non-null  object        \n",
      " 13  Город_ПП          13141 non-null  object        \n",
      " 14  Общежитие         13498 non-null  float64       \n",
      " 15  Наличие_Матери    13584 non-null  int64         \n",
      " 16  Наличие_Отца      13584 non-null  float64       \n",
      " 17  Страна_Родители   13126 non-null  object        \n",
      " 18  Опекунство        13584 non-null  float64       \n",
      " 19  Село              13498 non-null  float64       \n",
      " 20  Иностранец        13274 non-null  float64       \n",
      " 21  КодФакультета     13584 non-null  float64       \n",
      " 22  СрБаллАттестата   13584 non-null  float64       \n",
      " 23  Статус            13584 non-null  int64         \n",
      "dtypes: datetime64[ns](1), float64(9), int64(5), object(9)\n",
      "memory usage: 2.5+ MB\n"
     ]
    }
   ],
   "source": [
    "df.info()"
   ]
  },
  {
   "cell_type": "code",
   "execution_count": 7,
   "metadata": {},
   "outputs": [
    {
     "data": {
      "text/html": [
       "<div>\n",
       "<style scoped>\n",
       "    .dataframe tbody tr th:only-of-type {\n",
       "        vertical-align: middle;\n",
       "    }\n",
       "\n",
       "    .dataframe tbody tr th {\n",
       "        vertical-align: top;\n",
       "    }\n",
       "\n",
       "    .dataframe thead th {\n",
       "        text-align: right;\n",
       "    }\n",
       "</style>\n",
       "<table border=\"1\" class=\"dataframe\">\n",
       "  <thead>\n",
       "    <tr style=\"text-align: right;\">\n",
       "      <th></th>\n",
       "      <th>ID</th>\n",
       "      <th>Код_группы</th>\n",
       "      <th>Год_Поступления</th>\n",
       "      <th>Год_Окончания_УЗ</th>\n",
       "      <th>Пособие</th>\n",
       "      <th>Общежитие</th>\n",
       "      <th>Наличие_Матери</th>\n",
       "      <th>Наличие_Отца</th>\n",
       "      <th>Опекунство</th>\n",
       "      <th>Село</th>\n",
       "      <th>Иностранец</th>\n",
       "      <th>КодФакультета</th>\n",
       "      <th>СрБаллАттестата</th>\n",
       "      <th>Статус</th>\n",
       "    </tr>\n",
       "  </thead>\n",
       "  <tbody>\n",
       "    <tr>\n",
       "      <th>count</th>\n",
       "      <td>13584.000000</td>\n",
       "      <td>13584.000000</td>\n",
       "      <td>13584.000000</td>\n",
       "      <td>12284.000000</td>\n",
       "      <td>12576.0</td>\n",
       "      <td>13498.000000</td>\n",
       "      <td>13584.000000</td>\n",
       "      <td>13584.000000</td>\n",
       "      <td>13584.000000</td>\n",
       "      <td>13498.000000</td>\n",
       "      <td>13274.000000</td>\n",
       "      <td>13584.000000</td>\n",
       "      <td>13584.000000</td>\n",
       "      <td>13584.000000</td>\n",
       "    </tr>\n",
       "    <tr>\n",
       "      <th>mean</th>\n",
       "      <td>70096.056905</td>\n",
       "      <td>18302.499926</td>\n",
       "      <td>2014.992123</td>\n",
       "      <td>2013.876018</td>\n",
       "      <td>0.0</td>\n",
       "      <td>0.219884</td>\n",
       "      <td>0.511484</td>\n",
       "      <td>0.509570</td>\n",
       "      <td>0.000442</td>\n",
       "      <td>0.229441</td>\n",
       "      <td>0.070589</td>\n",
       "      <td>32.500368</td>\n",
       "      <td>73.223274</td>\n",
       "      <td>3.426458</td>\n",
       "    </tr>\n",
       "    <tr>\n",
       "      <th>std</th>\n",
       "      <td>12705.894531</td>\n",
       "      <td>2540.417956</td>\n",
       "      <td>2.595339</td>\n",
       "      <td>4.247111</td>\n",
       "      <td>0.0</td>\n",
       "      <td>0.414184</td>\n",
       "      <td>0.499886</td>\n",
       "      <td>0.499927</td>\n",
       "      <td>0.021013</td>\n",
       "      <td>0.420489</td>\n",
       "      <td>0.256147</td>\n",
       "      <td>8.458150</td>\n",
       "      <td>258.045027</td>\n",
       "      <td>1.071765</td>\n",
       "    </tr>\n",
       "    <tr>\n",
       "      <th>min</th>\n",
       "      <td>44632.000000</td>\n",
       "      <td>11550.000000</td>\n",
       "      <td>2001.000000</td>\n",
       "      <td>1973.000000</td>\n",
       "      <td>0.0</td>\n",
       "      <td>0.000000</td>\n",
       "      <td>0.000000</td>\n",
       "      <td>0.000000</td>\n",
       "      <td>0.000000</td>\n",
       "      <td>0.000000</td>\n",
       "      <td>0.000000</td>\n",
       "      <td>24.000000</td>\n",
       "      <td>0.000000</td>\n",
       "      <td>-1.000000</td>\n",
       "    </tr>\n",
       "    <tr>\n",
       "      <th>25%</th>\n",
       "      <td>63496.750000</td>\n",
       "      <td>16901.000000</td>\n",
       "      <td>2013.000000</td>\n",
       "      <td>2013.000000</td>\n",
       "      <td>0.0</td>\n",
       "      <td>0.000000</td>\n",
       "      <td>0.000000</td>\n",
       "      <td>0.000000</td>\n",
       "      <td>0.000000</td>\n",
       "      <td>0.000000</td>\n",
       "      <td>0.000000</td>\n",
       "      <td>26.000000</td>\n",
       "      <td>47.000000</td>\n",
       "      <td>3.000000</td>\n",
       "    </tr>\n",
       "    <tr>\n",
       "      <th>50%</th>\n",
       "      <td>71401.500000</td>\n",
       "      <td>18534.500000</td>\n",
       "      <td>2015.000000</td>\n",
       "      <td>2015.000000</td>\n",
       "      <td>0.0</td>\n",
       "      <td>0.000000</td>\n",
       "      <td>1.000000</td>\n",
       "      <td>1.000000</td>\n",
       "      <td>0.000000</td>\n",
       "      <td>0.000000</td>\n",
       "      <td>0.000000</td>\n",
       "      <td>28.000000</td>\n",
       "      <td>61.000000</td>\n",
       "      <td>4.000000</td>\n",
       "    </tr>\n",
       "    <tr>\n",
       "      <th>75%</th>\n",
       "      <td>78404.250000</td>\n",
       "      <td>20599.000000</td>\n",
       "      <td>2016.000000</td>\n",
       "      <td>2016.000000</td>\n",
       "      <td>0.0</td>\n",
       "      <td>0.000000</td>\n",
       "      <td>1.000000</td>\n",
       "      <td>1.000000</td>\n",
       "      <td>0.000000</td>\n",
       "      <td>0.000000</td>\n",
       "      <td>0.000000</td>\n",
       "      <td>40.000000</td>\n",
       "      <td>75.000000</td>\n",
       "      <td>4.000000</td>\n",
       "    </tr>\n",
       "    <tr>\n",
       "      <th>max</th>\n",
       "      <td>264403.000000</td>\n",
       "      <td>22824.000000</td>\n",
       "      <td>2212.000000</td>\n",
       "      <td>2020.000000</td>\n",
       "      <td>0.0</td>\n",
       "      <td>1.000000</td>\n",
       "      <td>1.000000</td>\n",
       "      <td>1.000000</td>\n",
       "      <td>1.000000</td>\n",
       "      <td>1.000000</td>\n",
       "      <td>1.000000</td>\n",
       "      <td>53.000000</td>\n",
       "      <td>5000.000000</td>\n",
       "      <td>4.000000</td>\n",
       "    </tr>\n",
       "  </tbody>\n",
       "</table>\n",
       "</div>"
      ],
      "text/plain": [
       "                  ID    Код_группы  Год_Поступления  Год_Окончания_УЗ  \\\n",
       "count   13584.000000  13584.000000     13584.000000      12284.000000   \n",
       "mean    70096.056905  18302.499926      2014.992123       2013.876018   \n",
       "std     12705.894531   2540.417956         2.595339          4.247111   \n",
       "min     44632.000000  11550.000000      2001.000000       1973.000000   \n",
       "25%     63496.750000  16901.000000      2013.000000       2013.000000   \n",
       "50%     71401.500000  18534.500000      2015.000000       2015.000000   \n",
       "75%     78404.250000  20599.000000      2016.000000       2016.000000   \n",
       "max    264403.000000  22824.000000      2212.000000       2020.000000   \n",
       "\n",
       "       Пособие     Общежитие  Наличие_Матери  Наличие_Отца    Опекунство  \\\n",
       "count  12576.0  13498.000000    13584.000000  13584.000000  13584.000000   \n",
       "mean       0.0      0.219884        0.511484      0.509570      0.000442   \n",
       "std        0.0      0.414184        0.499886      0.499927      0.021013   \n",
       "min        0.0      0.000000        0.000000      0.000000      0.000000   \n",
       "25%        0.0      0.000000        0.000000      0.000000      0.000000   \n",
       "50%        0.0      0.000000        1.000000      1.000000      0.000000   \n",
       "75%        0.0      0.000000        1.000000      1.000000      0.000000   \n",
       "max        0.0      1.000000        1.000000      1.000000      1.000000   \n",
       "\n",
       "               Село    Иностранец  КодФакультета  СрБаллАттестата  \\\n",
       "count  13498.000000  13274.000000   13584.000000     13584.000000   \n",
       "mean       0.229441      0.070589      32.500368        73.223274   \n",
       "std        0.420489      0.256147       8.458150       258.045027   \n",
       "min        0.000000      0.000000      24.000000         0.000000   \n",
       "25%        0.000000      0.000000      26.000000        47.000000   \n",
       "50%        0.000000      0.000000      28.000000        61.000000   \n",
       "75%        0.000000      0.000000      40.000000        75.000000   \n",
       "max        1.000000      1.000000      53.000000      5000.000000   \n",
       "\n",
       "             Статус  \n",
       "count  13584.000000  \n",
       "mean       3.426458  \n",
       "std        1.071765  \n",
       "min       -1.000000  \n",
       "25%        3.000000  \n",
       "50%        4.000000  \n",
       "75%        4.000000  \n",
       "max        4.000000  "
      ]
     },
     "execution_count": 7,
     "metadata": {},
     "output_type": "execute_result"
    }
   ],
   "source": [
    "df.describe()"
   ]
  },
  {
   "cell_type": "code",
   "execution_count": 8,
   "metadata": {},
   "outputs": [
    {
     "data": {
      "text/html": [
       "<div>\n",
       "<style scoped>\n",
       "    .dataframe tbody tr th:only-of-type {\n",
       "        vertical-align: middle;\n",
       "    }\n",
       "\n",
       "    .dataframe tbody tr th {\n",
       "        vertical-align: top;\n",
       "    }\n",
       "\n",
       "    .dataframe thead th {\n",
       "        text-align: right;\n",
       "    }\n",
       "</style>\n",
       "<table border=\"1\" class=\"dataframe\">\n",
       "  <thead>\n",
       "    <tr style=\"text-align: right;\">\n",
       "      <th></th>\n",
       "      <th>ID</th>\n",
       "      <th>Код_группы</th>\n",
       "      <th>Год_Поступления</th>\n",
       "      <th>Год_Окончания_УЗ</th>\n",
       "      <th>Пособие</th>\n",
       "      <th>Общежитие</th>\n",
       "      <th>Наличие_Матери</th>\n",
       "      <th>Наличие_Отца</th>\n",
       "      <th>Опекунство</th>\n",
       "      <th>Село</th>\n",
       "      <th>Иностранец</th>\n",
       "      <th>КодФакультета</th>\n",
       "      <th>СрБаллАттестата</th>\n",
       "    </tr>\n",
       "  </thead>\n",
       "  <tbody>\n",
       "    <tr>\n",
       "      <th>count</th>\n",
       "      <td>6691.000000</td>\n",
       "      <td>6691.000000</td>\n",
       "      <td>6691.000000</td>\n",
       "      <td>6074.000000</td>\n",
       "      <td>6207.0</td>\n",
       "      <td>6656.000000</td>\n",
       "      <td>6691.000000</td>\n",
       "      <td>6691.000000</td>\n",
       "      <td>6691.000000</td>\n",
       "      <td>6654.000000</td>\n",
       "      <td>6561.000000</td>\n",
       "      <td>6691.000000</td>\n",
       "      <td>6691.000000</td>\n",
       "    </tr>\n",
       "    <tr>\n",
       "      <th>mean</th>\n",
       "      <td>70202.034225</td>\n",
       "      <td>18310.805111</td>\n",
       "      <td>2014.991929</td>\n",
       "      <td>2013.800955</td>\n",
       "      <td>0.0</td>\n",
       "      <td>0.223407</td>\n",
       "      <td>0.501270</td>\n",
       "      <td>0.500673</td>\n",
       "      <td>0.000897</td>\n",
       "      <td>0.223024</td>\n",
       "      <td>0.071026</td>\n",
       "      <td>32.560155</td>\n",
       "      <td>71.681369</td>\n",
       "    </tr>\n",
       "    <tr>\n",
       "      <th>std</th>\n",
       "      <td>12763.462061</td>\n",
       "      <td>2523.533176</td>\n",
       "      <td>1.950492</td>\n",
       "      <td>4.450884</td>\n",
       "      <td>0.0</td>\n",
       "      <td>0.416560</td>\n",
       "      <td>0.500036</td>\n",
       "      <td>0.500037</td>\n",
       "      <td>0.029934</td>\n",
       "      <td>0.416305</td>\n",
       "      <td>0.256887</td>\n",
       "      <td>8.514496</td>\n",
       "      <td>250.386989</td>\n",
       "    </tr>\n",
       "    <tr>\n",
       "      <th>min</th>\n",
       "      <td>44602.000000</td>\n",
       "      <td>11574.000000</td>\n",
       "      <td>2006.000000</td>\n",
       "      <td>1966.000000</td>\n",
       "      <td>0.0</td>\n",
       "      <td>0.000000</td>\n",
       "      <td>0.000000</td>\n",
       "      <td>0.000000</td>\n",
       "      <td>0.000000</td>\n",
       "      <td>0.000000</td>\n",
       "      <td>0.000000</td>\n",
       "      <td>24.000000</td>\n",
       "      <td>0.000000</td>\n",
       "    </tr>\n",
       "    <tr>\n",
       "      <th>25%</th>\n",
       "      <td>64919.500000</td>\n",
       "      <td>16891.500000</td>\n",
       "      <td>2013.000000</td>\n",
       "      <td>2013.000000</td>\n",
       "      <td>0.0</td>\n",
       "      <td>0.000000</td>\n",
       "      <td>0.000000</td>\n",
       "      <td>0.000000</td>\n",
       "      <td>0.000000</td>\n",
       "      <td>0.000000</td>\n",
       "      <td>0.000000</td>\n",
       "      <td>26.000000</td>\n",
       "      <td>47.000000</td>\n",
       "    </tr>\n",
       "    <tr>\n",
       "      <th>50%</th>\n",
       "      <td>71380.000000</td>\n",
       "      <td>18537.000000</td>\n",
       "      <td>2015.000000</td>\n",
       "      <td>2015.000000</td>\n",
       "      <td>0.0</td>\n",
       "      <td>0.000000</td>\n",
       "      <td>1.000000</td>\n",
       "      <td>1.000000</td>\n",
       "      <td>0.000000</td>\n",
       "      <td>0.000000</td>\n",
       "      <td>0.000000</td>\n",
       "      <td>28.000000</td>\n",
       "      <td>61.000000</td>\n",
       "    </tr>\n",
       "    <tr>\n",
       "      <th>75%</th>\n",
       "      <td>78370.500000</td>\n",
       "      <td>20601.000000</td>\n",
       "      <td>2016.000000</td>\n",
       "      <td>2016.000000</td>\n",
       "      <td>0.0</td>\n",
       "      <td>0.000000</td>\n",
       "      <td>1.000000</td>\n",
       "      <td>1.000000</td>\n",
       "      <td>0.000000</td>\n",
       "      <td>0.000000</td>\n",
       "      <td>0.000000</td>\n",
       "      <td>40.000000</td>\n",
       "      <td>76.000000</td>\n",
       "    </tr>\n",
       "    <tr>\n",
       "      <th>max</th>\n",
       "      <td>194044.000000</td>\n",
       "      <td>22753.000000</td>\n",
       "      <td>2020.000000</td>\n",
       "      <td>2020.000000</td>\n",
       "      <td>0.0</td>\n",
       "      <td>1.000000</td>\n",
       "      <td>1.000000</td>\n",
       "      <td>1.000000</td>\n",
       "      <td>1.000000</td>\n",
       "      <td>1.000000</td>\n",
       "      <td>1.000000</td>\n",
       "      <td>53.000000</td>\n",
       "      <td>7232.000000</td>\n",
       "    </tr>\n",
       "  </tbody>\n",
       "</table>\n",
       "</div>"
      ],
      "text/plain": [
       "                  ID    Код_группы  Год_Поступления  Год_Окончания_УЗ  \\\n",
       "count    6691.000000   6691.000000      6691.000000       6074.000000   \n",
       "mean    70202.034225  18310.805111      2014.991929       2013.800955   \n",
       "std     12763.462061   2523.533176         1.950492          4.450884   \n",
       "min     44602.000000  11574.000000      2006.000000       1966.000000   \n",
       "25%     64919.500000  16891.500000      2013.000000       2013.000000   \n",
       "50%     71380.000000  18537.000000      2015.000000       2015.000000   \n",
       "75%     78370.500000  20601.000000      2016.000000       2016.000000   \n",
       "max    194044.000000  22753.000000      2020.000000       2020.000000   \n",
       "\n",
       "       Пособие    Общежитие  Наличие_Матери  Наличие_Отца   Опекунство  \\\n",
       "count   6207.0  6656.000000     6691.000000   6691.000000  6691.000000   \n",
       "mean       0.0     0.223407        0.501270      0.500673     0.000897   \n",
       "std        0.0     0.416560        0.500036      0.500037     0.029934   \n",
       "min        0.0     0.000000        0.000000      0.000000     0.000000   \n",
       "25%        0.0     0.000000        0.000000      0.000000     0.000000   \n",
       "50%        0.0     0.000000        1.000000      1.000000     0.000000   \n",
       "75%        0.0     0.000000        1.000000      1.000000     0.000000   \n",
       "max        0.0     1.000000        1.000000      1.000000     1.000000   \n",
       "\n",
       "              Село   Иностранец  КодФакультета  СрБаллАттестата  \n",
       "count  6654.000000  6561.000000    6691.000000      6691.000000  \n",
       "mean      0.223024     0.071026      32.560155        71.681369  \n",
       "std       0.416305     0.256887       8.514496       250.386989  \n",
       "min       0.000000     0.000000      24.000000         0.000000  \n",
       "25%       0.000000     0.000000      26.000000        47.000000  \n",
       "50%       0.000000     0.000000      28.000000        61.000000  \n",
       "75%       0.000000     0.000000      40.000000        76.000000  \n",
       "max       1.000000     1.000000      53.000000      7232.000000  "
      ]
     },
     "execution_count": 8,
     "metadata": {},
     "output_type": "execute_result"
    }
   ],
   "source": [
    "df_test.describe()"
   ]
  },
  {
   "cell_type": "code",
   "execution_count": 9,
   "metadata": {},
   "outputs": [
    {
     "data": {
      "text/plain": [
       "array(['Россия', nan, 'Казахстан', 'Кыргызстан', 'Китай', 'Таджикистан',\n",
       "       'Казахстан Респ', 'Киргизия', 'Казахстан респ', 'РОССИЯ',\n",
       "       'Армения', 'Туркменистан', 'Нигерия', 'Таджикистан Респ',\n",
       "       'Росссия', 'Узбекистан', 'Кыргызия', 'Франция',\n",
       "       'Кыргызская Республика', 'Монголия', 'Казахстан ВКО',\n",
       "       'Республика Казахстан', 'Республика Таджикистан', 'Украина'],\n",
       "      dtype=object)"
      ]
     },
     "execution_count": 9,
     "metadata": {},
     "output_type": "execute_result"
    }
   ],
   "source": [
    "df['Страна_ПП'].unique()"
   ]
  },
  {
   "cell_type": "markdown",
   "metadata": {
    "id": "4cxnT51gu5fJ"
   },
   "source": [
    "Пострим на распределение данных"
   ]
  },
  {
   "cell_type": "code",
   "execution_count": 10,
   "metadata": {
    "colab": {
     "base_uri": "https://localhost:8080/",
     "height": 313
    },
    "id": "205eCTRPu3Au",
    "outputId": "190a476b-9204-46e8-835d-419c8c80bceb"
   },
   "outputs": [
    {
     "data": {
      "text/plain": [
       "Text(0.5, 1.0, 'Распределение предсказываемой величены')"
      ]
     },
     "execution_count": 10,
     "metadata": {},
     "output_type": "execute_result"
    },
    {
     "data": {
      "image/png": "[encoded data removed]",
      "text/plain": [
       "<Figure size 432x288 with 1 Axes>"
      ]
     },
     "metadata": {
      "needs_background": "light"
     },
     "output_type": "display_data"
    }
   ],
   "source": [
    "sns.countplot(x = \"Статус\" , data  = df).set_title('Распределение предсказываемой величены')"
   ]
  },
  {
   "cell_type": "code",
   "execution_count": 11,
   "metadata": {
    "colab": {
     "base_uri": "https://localhost:8080/",
     "height": 299
    },
    "id": "0hNUU0Dvu3DC",
    "outputId": "09f22f43-a99a-4c49-8d6c-25171a2e7b7f"
   },
   "outputs": [
    {
     "data": {
      "text/plain": [
       "Text(0.5, 1.0, 'Распределение года поступления')"
      ]
     },
     "execution_count": 11,
     "metadata": {},
     "output_type": "execute_result"
    },
    {
     "data": {
      "image/png": "[encoded data removed]",
      "text/plain": [
       "<Figure size 432x288 with 1 Axes>"
      ]
     },
     "metadata": {
      "needs_background": "light"
     },
     "output_type": "display_data"
    }
   ],
   "source": [
    "df[\"Год_Поступления\"].hist(bins = 11, range = [2010, 2021]).set_title('Распределение года поступления')"
   ]
  },
  {
   "cell_type": "markdown",
   "metadata": {
    "id": "Q0CkiEzGwusL"
   },
   "source": [
    "Взглянем на несколько величин сразу"
   ]
  },
  {
   "cell_type": "code",
   "execution_count": 12,
   "metadata": {
    "colab": {
     "base_uri": "https://localhost:8080/",
     "height": 736
    },
    "id": "NM_Cufl3u3H0",
    "outputId": "f374a101-fbcc-465f-e59d-5a3ab3273595"
   },
   "outputs": [
    {
     "data": {
      "image/png": "[encoded data removed]",
      "text/plain": [
       "<Figure size 1440x864 with 16 Axes>"
      ]
     },
     "metadata": {
      "needs_background": "light"
     },
     "output_type": "display_data"
    }
   ],
   "source": [
    "_ = df[df.columns].hist(figsize=(20,12))"
   ]
  },
  {
   "cell_type": "markdown",
   "metadata": {
    "id": "zr-31zZQxUwx"
   },
   "source": [
    "Обратим внимание на часть столбцов с постоянными значениями"
   ]
  },
  {
   "cell_type": "code",
   "execution_count": 13,
   "metadata": {
    "colab": {
     "base_uri": "https://localhost:8080/"
    },
    "id": "qw4IcQ2fu3KL",
    "outputId": "3086474e-c286-43c2-9073-9394da4095dd"
   },
   "outputs": [
    {
     "data": {
      "text/plain": [
       "0.0    12576\n",
       "Name: Пособие, dtype: int64"
      ]
     },
     "execution_count": 13,
     "metadata": {},
     "output_type": "execute_result"
    }
   ],
   "source": [
    "df[\"Пособие\"].value_counts()"
   ]
  },
  {
   "cell_type": "code",
   "execution_count": 14,
   "metadata": {
    "colab": {
     "base_uri": "https://localhost:8080/"
    },
    "id": "1A6yjsJXDkIt",
    "outputId": "c0625d0c-7bb0-44c6-b87c-74c49c8c2d5a"
   },
   "outputs": [
    {
     "data": {
      "text/plain": [
       "0.0    13578\n",
       "1.0        6\n",
       "Name: Опекунство, dtype: int64"
      ]
     },
     "execution_count": 14,
     "metadata": {},
     "output_type": "execute_result"
    }
   ],
   "source": [
    "df[\"Опекунство\"].value_counts()"
   ]
  },
  {
   "cell_type": "code",
   "execution_count": 15,
   "metadata": {
    "colab": {
     "base_uri": "https://localhost:8080/"
    },
    "id": "pWrDLNAKD_ZB",
    "outputId": "1a1ddd84-d9c6-432d-972b-01a9b015c1c0"
   },
   "outputs": [
    {
     "data": {
      "text/plain": [
       "array(['ID', 'Код_группы', 'Год_Поступления', 'Пол', 'Основания',\n",
       "       'Изучаемый_Язык', 'Дата_Рождения', 'Уч_Заведение',\n",
       "       'Где_Находится_УЗ', 'Год_Окончания_УЗ', 'Пособие', 'Страна_ПП',\n",
       "       'Регион_ПП', 'Город_ПП', 'Общежитие', 'Наличие_Матери',\n",
       "       'Наличие_Отца', 'Страна_Родители', 'Опекунство', 'Село',\n",
       "       'Иностранец', 'КодФакультета', 'СрБаллАттестата', 'Статус'],\n",
       "      dtype=object)"
      ]
     },
     "execution_count": 15,
     "metadata": {},
     "output_type": "execute_result"
    }
   ],
   "source": [
    "df.columns.values"
   ]
  },
  {
   "cell_type": "code",
   "execution_count": 16,
   "metadata": {
    "colab": {
     "base_uri": "https://localhost:8080/",
     "height": 883
    },
    "id": "VnDPAAahyOnw",
    "outputId": "13ba8161-1b04-47f2-cf76-52a99ab762b0"
   },
   "outputs": [
    {
     "data": {
      "image/png": "[encoded data removed]",
      "text/plain": [
       "<Figure size 1080x1080 with 2 Axes>"
      ]
     },
     "metadata": {
      "needs_background": "light"
     },
     "output_type": "display_data"
    }
   ],
   "source": [
    "plt.rcParams['figure.figsize']=(15,15)\n",
    "\n",
    "\n",
    "df_corr = list(set(df.columns.values) - set(['Опекунство','Пособие']))\n",
    "g = sns.heatmap(df[df_corr].corr(), square = True, annot=True)"
   ]
  },
  {
   "cell_type": "code",
   "execution_count": 17,
   "metadata": {},
   "outputs": [
    {
     "data": {
      "image/png": "[encoded data removed]",
      "text/plain": [
       "<Figure size 1440x576 with 2 Axes>"
      ]
     },
     "metadata": {
      "needs_background": "light"
     },
     "output_type": "display_data"
    }
   ],
   "source": [
    "fig = plt.figure(figsize=(20,8))\n",
    "\n",
    "ax_1 = fig.add_subplot(1,2,1)\n",
    "ax_1 = plt.boxplot(df[['Год_Окончания_УЗ', 'Год_Поступления']])\n",
    "\n",
    "ax_2 = fig.add_subplot(1,2,2)\n",
    "ax_2 = plt.boxplot(df_test[['Год_Окончания_УЗ', 'Год_Поступления']])\n",
    "\n"
   ]
  },
  {
   "cell_type": "code",
   "execution_count": 18,
   "metadata": {},
   "outputs": [],
   "source": [
    "# sns.pairplot(df, hue='Статус')"
   ]
  },
  {
   "cell_type": "markdown",
   "metadata": {},
   "source": [
    "**Вывод**\n",
    "\n",
    "1. В наборе данных представлена информация о студентах поступивших в АГУ в период с 2001 по 2020 год. Данные студенты закончили предидущее учебное заведение с 1966 года по 2020г. \n",
    "2. Присутствует дизбаланс классов целевого признака. Необходимо учесть это при обучении моделей.\n",
    "3. Присутствуют пропуски в колонках:`Пол`,`Изучаемый_Язык`, `Уч_Заведение`, `Где_Находится_УЗ`, `Год_Окончания_УЗ`, `Пособие`, `Страна_ПП`, `Регион_ПП`, `Город_ПП`, `Общежитие`, `Страна_Родители`, `Село`, `Иностранец`. Их необходимо будет обработать.\n",
    "4. Колонка `Пособие` - данные в ней являются константой. Использовать её для обучения модели не целесообразно.\n",
    "4. Не достоверные данные:\n",
    "    - `Год_Поступления` - 2212 - необходимо решить как заменить данную нереальную цифру.\n",
    "    - `СрБаллАттестата` - Представлены данные о баллах ЕГЭ и оценках. Необходимо привести к единому виду."
   ]
  },
  {
   "cell_type": "markdown",
   "metadata": {},
   "source": [
    "## 2. Подготовка данных\n",
    "\n",
    "1. Обработка данных:\n",
    "    - Обработка пропусков\n",
    "    - Обработка текстовых признаков\n",
    "    - Обработка недостоверных данных и выбросов.\n",
    "2. Подготовка признаков.\n",
    "3. Подготовка выборок для обучения модели."
   ]
  },
  {
   "cell_type": "markdown",
   "metadata": {},
   "source": [
    "### 2.1 Обработка данных.\n",
    "#### 2.1.1 Обработка пропусков.\n",
    "\n",
    "Пропуски обработаем следующим образом:\n",
    "- `Пол` - заменим на \"Неизвестно\";\n",
    "- `Год_Окончания_УЗ` - заполним годом поступления;\n",
    "- `Год_Поступления` - заполним годом окончания УЗ;\n",
    "- `Пособие`, `Общежитие`, `Село`, `Иностранец` - заменим на \"0\"."
   ]
  },
  {
   "cell_type": "code",
   "execution_count": 19,
   "metadata": {},
   "outputs": [],
   "source": [
    "# Пропущенный год окончания УЗ = году поступления\n",
    "df.loc[df['Год_Окончания_УЗ'].isna(), 'Год_Окончания_УЗ'] = df.loc[df['Год_Окончания_УЗ'].isna(), 'Год_Поступления']\n",
    "df_test.loc[df_test['Год_Окончания_УЗ'].isna(), 'Год_Окончания_УЗ'] = df_test.loc[df_test['Год_Окончания_УЗ'].isna(), 'Год_Поступления']\n",
    "# Пропущенный год поступления = году окончания УЗ\n",
    "df.loc[df['Год_Поступления'].isna(), 'Год_Поступления'] = df.loc[df['Год_Поступления'].isna(), 'Год_Окончания_УЗ']\n",
    "df_test.loc[df_test['Год_Поступления'].isna(), 'Год_Поступления'] = df_test.loc[df_test['Год_Поступления'].isna(), 'Год_Окончания_УЗ']"
   ]
  },
  {
   "cell_type": "code",
   "execution_count": 20,
   "metadata": {},
   "outputs": [],
   "source": [
    "# Список колонок типа float\n",
    "mass_float = df.dtypes[df.dtypes == \"float64\"].index.values\n",
    "\n",
    "df[mass_float] = df[mass_float].astype('int64', errors='ignore')"
   ]
  },
  {
   "cell_type": "code",
   "execution_count": 21,
   "metadata": {},
   "outputs": [
    {
     "data": {
      "text/plain": [
       "array(['ID', 'Код_группы', 'Год_Поступления', 'Год_Окончания_УЗ',\n",
       "       'Пособие', 'Общежитие', 'Наличие_Матери', 'Наличие_Отца',\n",
       "       'Опекунство', 'Село', 'Иностранец', 'КодФакультета',\n",
       "       'СрБаллАттестата', 'Статус'], dtype=object)"
      ]
     },
     "execution_count": 21,
     "metadata": {},
     "output_type": "execute_result"
    }
   ],
   "source": [
    "# Список колонок типа object\n",
    "mass_object = df.dtypes[df.dtypes == \"object\"].index.values\n",
    "# Список колонок числовых типов\n",
    "mass_numeryc = df.dtypes[(df.dtypes == \"int64\")|(df.dtypes == \"float64\")].index.values\n",
    "mass_numeryc"
   ]
  },
  {
   "cell_type": "code",
   "execution_count": 22,
   "metadata": {},
   "outputs": [],
   "source": [
    "df[mass_object] = df[mass_object].fillna('неизвестно')\n",
    "df[mass_numeryc] = df[mass_numeryc].fillna(0)\n",
    "\n",
    "df_test[mass_object] = df_test[mass_object].fillna('неизвестно')\n",
    "df_test[np.delete(mass_numeryc, -1)] = df_test[np.delete(mass_numeryc, -1)].fillna(0)"
   ]
  },
  {
   "cell_type": "markdown",
   "metadata": {},
   "source": [
    "**Вывод:** Пропуски заполнены."
   ]
  },
  {
   "cell_type": "markdown",
   "metadata": {},
   "source": [
    "#### 2.1.2 Текстовые признаки\n",
    "\n",
    "В текстовых признаках многие одинаковые по смыслу данные имеют разное написание. В ходе обработки необходимо учитывать данный факт.\n",
    "Обработаем текстовые признаки  следующим образом:\n",
    "- `Изучаемый_Язык` - заменим на \"Английский язык\", так как он изучается наибольшим числом студентов.\n",
    "- `Уч_Заведение` - выделим только типы учебных заведений: университет, СОШ, ПТУ, и другие.\n",
    "- `Где_Находится_УЗ` - так как большинство УЗ находятся в Алтайском крае, выделим только УЗ в Алтайском крае и в другиз НП.\n",
    "- `Страна_ПП` - выделим страны: 'россия', 'казахстан', 'кыргызстан', 'таджикистан'.\n",
    "- `Регион_ПП` - выделим Алтайский край и все другие.\n",
    "- `Город_ПП` - выделим Барнаул и все остальные.\n",
    "- `Страна_Родители` - - выделим страны: 'россия', 'казахстан', 'кыргызстан', 'таджикистан'."
   ]
  },
  {
   "cell_type": "code",
   "execution_count": 23,
   "metadata": {},
   "outputs": [],
   "source": [
    "df['Пол'] = df['Пол'].apply(str.lower)\n",
    "df_test['Пол'] = df_test['Пол'].apply(str.lower)\n",
    "# df['Пол'].value_counts()"
   ]
  },
  {
   "cell_type": "code",
   "execution_count": 24,
   "metadata": {},
   "outputs": [],
   "source": [
    "def lang_search(text):\n",
    "    text = str.lower(text)\n",
    "    if re.search(r'англ', text):\n",
    "        return 'английский'\n",
    "    elif re.search(r'немецкий', text):\n",
    "        return 'немецкий'\n",
    "    elif re.search(r'французский', text):\n",
    "        return 'французский'\n",
    "    elif  re.search(r'русский', text):\n",
    "        return 'русский'\n",
    "    # return 'неизвстно'\n",
    "    return 'английский'\n",
    "\n",
    "df['Изучаемый_Язык'] = df['Изучаемый_Язык'].apply(lang_search)\n",
    "df_test['Изучаемый_Язык'] = df_test['Изучаемый_Язык'].apply(lang_search)"
   ]
  },
  {
   "cell_type": "code",
   "execution_count": 25,
   "metadata": {},
   "outputs": [],
   "source": [
    "def learn_search(text):\n",
    "    text = str.lower(text)\n",
    "    if re.search(r'универ', text) or re.search(r'гу', text):\n",
    "        return 'универ'\n",
    "    elif re.search(r'сош', text) or re.search(r'школа', text) or re.search(r'сш', text):\n",
    "        return 'сош'\n",
    "    elif re.search(r'гимназ', text):\n",
    "        # return 'гимназия'\n",
    "        return 'сош'\n",
    "    elif  re.search(r'колледж', text):\n",
    "        # return 'колледж'\n",
    "        return 'сош'\n",
    "    elif  re.search(r'лицей', text):\n",
    "        # return 'лицей'\n",
    "        return 'сош'\n",
    "    elif  re.search(r'академ', text):\n",
    "        # return 'академия'\n",
    "        return 'универ'\n",
    "    elif  re.search(r'инсти', text):\n",
    "        # return 'институт'\n",
    "        return 'универ'\n",
    "    elif  re.search(r'техник', text):\n",
    "        # return 'техникум'\n",
    "        return 'сош'\n",
    "    elif  re.search(r'кадет', text):\n",
    "        # return 'кадет'\n",
    "        return 'сош'\n",
    "    elif  re.search(r'профессио', text):\n",
    "        return 'пту'\n",
    "    return 'другое'\n",
    "    # return 'сош'\n",
    "\n",
    "df['Уч_Заведение'] = df['Уч_Заведение'].apply(learn_search)\n",
    "df_test['Уч_Заведение'] = df_test['Уч_Заведение'].apply(learn_search)"
   ]
  },
  {
   "cell_type": "code",
   "execution_count": 26,
   "metadata": {},
   "outputs": [],
   "source": [
    "# df['Где_Находится_УЗ'].value_counts().head(30)"
   ]
  },
  {
   "cell_type": "code",
   "execution_count": 27,
   "metadata": {},
   "outputs": [],
   "source": [
    "def situation_search(text):\n",
    "    text = str.lower(text)\n",
    "    if re.search(r'алтай', text) or re.search(r'барнаул', text):\n",
    "        return 'алтай'\n",
    "    \n",
    "    return 'другой'\n",
    "\n",
    "df['Где_Находится_УЗ'] = df['Где_Находится_УЗ'].apply(situation_search)\n",
    "df_test['Где_Находится_УЗ'] = df_test['Где_Находится_УЗ'].apply(situation_search)\n"
   ]
  },
  {
   "cell_type": "code",
   "execution_count": 28,
   "metadata": {},
   "outputs": [],
   "source": [
    "def country_search(text):\n",
    "    text = str.lower(text)\n",
    "    if re.search(r'рос', text):\n",
    "        return 'россия'\n",
    "    elif re.search(r'казах', text):\n",
    "        return 'казахстан'\n",
    "    elif re.search(r'таджик', text):\n",
    "        return 'таджикистан'\n",
    "    elif  re.search(r'кыргыз', text):\n",
    "        return 'кыргызстан'\n",
    "    elif re.search(r'киргиз', text):\n",
    "        return 'кыргызстан'\n",
    "    \n",
    "    # return 'неизвестно'\n",
    "    return 'россия'\n",
    "\n",
    "df['Страна_ПП'] = df['Страна_ПП'].apply(country_search)\n",
    "df_test['Страна_ПП'] = df_test['Страна_ПП'].apply(country_search)\n"
   ]
  },
  {
   "cell_type": "code",
   "execution_count": 29,
   "metadata": {},
   "outputs": [],
   "source": [
    "def region_search(text):\n",
    "    text = str.lower(text)\n",
    "    if re.search(r'алтай', text):\n",
    "        return 'алтай'\n",
    "    \n",
    "    return 'другой'\n",
    "\n",
    "df['Регион_ПП'] = df['Регион_ПП'].apply(region_search)\n",
    "df_test['Регион_ПП'] = df_test['Регион_ПП'].apply(region_search)"
   ]
  },
  {
   "cell_type": "code",
   "execution_count": 30,
   "metadata": {},
   "outputs": [],
   "source": [
    "def city_search(text):\n",
    "    text = str.lower(text)\n",
    "    line = text.split(' ')\n",
    "    max_i = 0\n",
    "    max_item = 'неизвестно'\n",
    "    for item in line:\n",
    "        if len(item) > max_i:\n",
    "            max_item = item\n",
    "            max_i = len(item)\n",
    "    if max_item != 'барнаул' and max_item != 'неизвестно':\n",
    "        return 'другой'\n",
    "    return max_item\n",
    "\n",
    "df['Город_ПП'] = df['Город_ПП'].apply(city_search)\n",
    "df_test['Город_ПП'] = df_test['Город_ПП'].apply(city_search)"
   ]
  },
  {
   "cell_type": "code",
   "execution_count": 31,
   "metadata": {},
   "outputs": [],
   "source": [
    "df['Страна_Родители'] = df['Страна_Родители'].apply(country_search)\n",
    "df_test['Страна_Родители'] = df_test['Страна_Родители'].apply(country_search)"
   ]
  },
  {
   "cell_type": "markdown",
   "metadata": {},
   "source": [
    "**Вывод:** Текстовые данные обработаны."
   ]
  },
  {
   "cell_type": "markdown",
   "metadata": {},
   "source": [
    "#### 2.1.3 Недостоверные данные, выбросы\n",
    "\n",
    "1. Заменим 2212 год в колонке `Год_Поступления` на 2012 как наиболее вероятное значение.\n",
    "2. Приведём данные в колонке `СрБаллАттестата` к оценкам по пятибальной системе."
   ]
  },
  {
   "cell_type": "code",
   "execution_count": 32,
   "metadata": {},
   "outputs": [],
   "source": [
    "df.loc[104, 'Год_Поступления'] = 2012"
   ]
  },
  {
   "cell_type": "code",
   "execution_count": 33,
   "metadata": {},
   "outputs": [
    {
     "data": {
      "text/plain": [
       "count    13584.000000\n",
       "mean        73.223274\n",
       "std        258.045027\n",
       "min          0.000000\n",
       "25%         47.000000\n",
       "50%         61.000000\n",
       "75%         75.000000\n",
       "max       5000.000000\n",
       "Name: СрБаллАттестата, dtype: float64"
      ]
     },
     "execution_count": 33,
     "metadata": {},
     "output_type": "execute_result"
    }
   ],
   "source": [
    "df['СрБаллАттестата'].describe()"
   ]
  },
  {
   "cell_type": "code",
   "execution_count": 34,
   "metadata": {},
   "outputs": [
    {
     "data": {
      "text/plain": [
       "count    6691.000000\n",
       "mean       71.681369\n",
       "std       250.386989\n",
       "min         0.000000\n",
       "25%        47.000000\n",
       "50%        61.000000\n",
       "75%        76.000000\n",
       "max      7232.000000\n",
       "Name: СрБаллАттестата, dtype: float64"
      ]
     },
     "execution_count": 34,
     "metadata": {},
     "output_type": "execute_result"
    }
   ],
   "source": [
    "df_test['СрБаллАттестата'].describe()"
   ]
  },
  {
   "cell_type": "code",
   "execution_count": 35,
   "metadata": {},
   "outputs": [
    {
     "data": {
      "image/png": "[encoded data removed]",
      "text/plain": [
       "<Figure size 1440x576 with 2 Axes>"
      ]
     },
     "metadata": {
      "needs_background": "light"
     },
     "output_type": "display_data"
    }
   ],
   "source": [
    "fig = plt.figure(figsize=(20,8))\n",
    "\n",
    "ax_1 = fig.add_subplot(1,2,1)\n",
    "ax_1 = plt.boxplot(df['СрБаллАттестата'])\n",
    "\n",
    "ax_2 = fig.add_subplot(1,2,2)\n",
    "ax_2 = plt.boxplot(df_test['СрБаллАттестата'])"
   ]
  },
  {
   "cell_type": "code",
   "execution_count": 36,
   "metadata": {},
   "outputs": [
    {
     "data": {
      "image/png": "[encoded data removed]",
      "text/plain": [
       "<Figure size 1440x576 with 2 Axes>"
      ]
     },
     "metadata": {
      "needs_background": "light"
     },
     "output_type": "display_data"
    }
   ],
   "source": [
    "fig = plt.figure(figsize=(20,8))\n",
    "\n",
    "ax_1 = fig.add_subplot(1,2,1)\n",
    "ax_1.hist(df[(df['СрБаллАттестата'] > -1) & (df['СрБаллАттестата'] <500)]['СрБаллАттестата'], bins=100)\n",
    "ax_2 = fig.add_subplot(1,2,2)\n",
    "ax_2.hist(df_test[(df_test['СрБаллАттестата'] > -1) & (df_test['СрБаллАттестата'] <500)]['СрБаллАттестата'], bins=100)\n",
    "plt.show;\n",
    "# df[(df['СрБаллАттестата'] > -1) & (df['СрБаллАттестата'] <500)]['СрБаллАттестата'].hist(bins=100)"
   ]
  },
  {
   "cell_type": "code",
   "execution_count": 37,
   "metadata": {},
   "outputs": [],
   "source": [
    "def preproc_attestat(ball):\n",
    "    \"\"\" Принимаем значение среднего балла аттестата\n",
    "        Возвращаем балл приведённый к 5-ти бальной системе оценок\n",
    "    \"\"\"\n",
    "    if ball > 5000:\n",
    "        return min((ball / 100 - 30) / 20 + 3, 5)\n",
    "    elif ball > 1000:\n",
    "        return ball / 1000\n",
    "    elif ball > 500:\n",
    "        return ball / 200\n",
    "    elif ball > 100:\n",
    "        return ball / 100\n",
    "    elif ball > 29: \n",
    "        return min((ball - 30) / 20 + 3, 5)\n",
    "    # elif ball > 10:\n",
    "    #     return ball / 5\n",
    "    elif ball > 5:\n",
    "        # return ball / 2\n",
    "        return 4\n",
    "    elif ball == 0:\n",
    "        return 4\n",
    "        \n",
    "    return ball"
   ]
  },
  {
   "cell_type": "code",
   "execution_count": 38,
   "metadata": {},
   "outputs": [],
   "source": [
    "df['СрБаллАттестата'] = df['СрБаллАттестата'].apply(preproc_attestat)\n",
    "df_test['СрБаллАттестата'] = df_test['СрБаллАттестата'].apply(preproc_attestat)"
   ]
  },
  {
   "cell_type": "markdown",
   "metadata": {},
   "source": [
    "**Вывод:** Данные обработаны"
   ]
  },
  {
   "cell_type": "markdown",
   "metadata": {},
   "source": [
    "### 2.2 Подготовка признаков"
   ]
  },
  {
   "cell_type": "code",
   "execution_count": 39,
   "metadata": {
    "id": "Poa1_MKE08xs"
   },
   "outputs": [],
   "source": [
    "# Список категориальных признаков\n",
    "category_columns = [\n",
    "                    'Пол', \n",
    "                    'Основания', \n",
    "                    'Изучаемый_Язык',\n",
    "                    # 'Дата_Рождения',\n",
    "                    'Уч_Заведение', \n",
    "                    'Где_Находится_УЗ', \n",
    "                    'Страна_ПП', \n",
    "                    # 'Регион_ПП',\n",
    "                    # 'Город_ПП', \n",
    "                    'Страна_Родители'\n",
    "                   ]\n",
    "# mass_object = df.dtypes[df.dtypes == \"object\"].index.values"
   ]
  },
  {
   "cell_type": "code",
   "execution_count": 40,
   "metadata": {},
   "outputs": [],
   "source": [
    "# Список числовых признаков\n",
    "numeric_columns = ['ID',\n",
    "                   'Код_группы',\n",
    "                   'Год_Поступления',\n",
    "                   'Год_Окончания_УЗ',\n",
    "                   # 'Пособие',\n",
    "                   'Общежитие', \n",
    "                   # 'Наличие_Матери', \n",
    "                   # 'Наличие_Отца',\n",
    "                   # 'Опекунство', \n",
    "                   'Село', \n",
    "                   'Иностранец', \n",
    "                   'КодФакультета',\n",
    "                   'СрБаллАттестата',\n",
    "                  ]"
   ]
  },
  {
   "cell_type": "code",
   "execution_count": 41,
   "metadata": {},
   "outputs": [],
   "source": [
    "# Генерация дополнительных признаков\n",
    "def create_features(data):\n",
    "    \"\"\" Принимаем датасет\n",
    "        Возвращаем датасет с добавлением признаков\n",
    "    \"\"\"\n",
    "    data['Год_рождения'] = data['Дата_Рождения'].dt.year\n",
    "    data['Возраст_поступления'] = data['Год_Поступления'] - data['Год_рождения']\n",
    "    # df['Возраст_поступления_20'] = df['Возраст_поступления'].apply(lambda x: 1 if x > 18 else 0)\n",
    "    data['лет_между'] = data['Год_Поступления'] - data['Год_Окончания_УЗ']\n",
    "    data['Месяц_рождения'] = data['Дата_Рождения'].dt.month\n",
    "    data['Месяц_рождения'] = data['Месяц_рождения'].apply(lambda x: 1 if (x > 4) and (x < 10) else 0)\n",
    "    data['родители_иностранцы'] = data['Страна_Родители'].apply(lambda x: 0 if x == 'россия' else 1)\n",
    "    # data['СрБаллАттестата'] = data['СрБаллАттестата'].apply(lambda x: x**2)\n",
    "    data[['Код_группы_1','Код_группы_2']] = [_ for _ in data['Код_группы'].apply(lambda kod: [int(str(kod)[:3]), int(str(kod)[3:])])]\n",
    "    \n",
    "    # data['Год_рождения'] = data['Год_рождения'].apply(lambda x: (x - 2020)**2)\n",
    "    # data['Год_Поступления'] = data['Год_Поступления'].apply(lambda x: (x - 2020)**2)\n",
    "    # data['Год_Окончания_УЗ'] = data['Год_Окончания_УЗ'].apply(lambda x: (x - 2020)**2)\n",
    "    \n",
    "    data['Наличие_родителей'] =  data['Наличие_Матери'] +  data['Наличие_Отца'] - data['Опекунство']\n",
    "    data['Супер_признак'] = np.sqrt(data['Студентов_в_группе']**2 + data['СрБаллАттестата']**2)\n",
    "    return data"
   ]
  },
  {
   "cell_type": "code",
   "execution_count": 42,
   "metadata": {},
   "outputs": [],
   "source": [
    "# Количество студентов в группе\n",
    "# df_train_test = pd.concat([df, df_test])\n",
    "# students_on_group = df_train_test.groupby('Код_группы')['ID'].count()\n",
    "\n",
    "# Количество студентов в группе\n",
    "students_on_group = df.groupby('Код_группы')['ID'].count()\n",
    "students_on_group.name = 'Студентов_в_группе'\n",
    "# students_on_group = students_on_group.apply(lambda x: x**2)\n",
    "# students_on_group = students_on_group.apply(lambda x: max(x, 3))\n",
    "\n",
    "# Добавляем в датасеты\n",
    "df = df.merge(students_on_group, on='Код_группы', how='left')\n",
    "df_test = df_test.merge(students_on_group, on='Код_группы', how='left')\n",
    "df_test = df_test.fillna(1)"
   ]
  },
  {
   "cell_type": "code",
   "execution_count": 43,
   "metadata": {},
   "outputs": [],
   "source": [
    "# Количество студентов на факультете\n",
    "students_on_facult = df.groupby('КодФакультета')['ID'].count()\n",
    "students_on_facult.name = 'Студентов_на_факультете'\n",
    "\n",
    "df = df.merge(students_on_facult, on='КодФакультета')#, how='left')\n",
    "df_test = df_test.merge(students_on_facult, on='КодФакультета', how='left')\n",
    "df_test = df_test.fillna(df_test['Студентов_на_факультете'].median())"
   ]
  },
  {
   "cell_type": "code",
   "execution_count": 44,
   "metadata": {},
   "outputs": [
    {
     "data": {
      "text/html": [
       "<div>\n",
       "<style scoped>\n",
       "    .dataframe tbody tr th:only-of-type {\n",
       "        vertical-align: middle;\n",
       "    }\n",
       "\n",
       "    .dataframe tbody tr th {\n",
       "        vertical-align: top;\n",
       "    }\n",
       "\n",
       "    .dataframe thead th {\n",
       "        text-align: right;\n",
       "    }\n",
       "</style>\n",
       "<table border=\"1\" class=\"dataframe\">\n",
       "  <thead>\n",
       "    <tr style=\"text-align: right;\">\n",
       "      <th></th>\n",
       "      <th>ID</th>\n",
       "      <th>Код_группы</th>\n",
       "      <th>Год_Поступления</th>\n",
       "      <th>Пол</th>\n",
       "      <th>Основания</th>\n",
       "      <th>Изучаемый_Язык</th>\n",
       "      <th>Дата_Рождения</th>\n",
       "      <th>Уч_Заведение</th>\n",
       "      <th>Где_Находится_УЗ</th>\n",
       "      <th>Год_Окончания_УЗ</th>\n",
       "      <th>...</th>\n",
       "      <th>Наличие_Отца</th>\n",
       "      <th>Страна_Родители</th>\n",
       "      <th>Опекунство</th>\n",
       "      <th>Село</th>\n",
       "      <th>Иностранец</th>\n",
       "      <th>КодФакультета</th>\n",
       "      <th>СрБаллАттестата</th>\n",
       "      <th>Статус</th>\n",
       "      <th>Студентов_в_группе</th>\n",
       "      <th>Студентов_на_факультете</th>\n",
       "    </tr>\n",
       "  </thead>\n",
       "  <tbody>\n",
       "    <tr>\n",
       "      <th>0</th>\n",
       "      <td>72716</td>\n",
       "      <td>16019</td>\n",
       "      <td>2015</td>\n",
       "      <td>жен</td>\n",
       "      <td>ОО</td>\n",
       "      <td>английский</td>\n",
       "      <td>1998-02-08</td>\n",
       "      <td>сош</td>\n",
       "      <td>алтай</td>\n",
       "      <td>2014.0</td>\n",
       "      <td>...</td>\n",
       "      <td>0.0</td>\n",
       "      <td>россия</td>\n",
       "      <td>0.0</td>\n",
       "      <td>0.0</td>\n",
       "      <td>0.0</td>\n",
       "      <td>41.0</td>\n",
       "      <td>4.294</td>\n",
       "      <td>3</td>\n",
       "      <td>2</td>\n",
       "      <td>1485</td>\n",
       "    </tr>\n",
       "    <tr>\n",
       "      <th>1</th>\n",
       "      <td>82469</td>\n",
       "      <td>20103</td>\n",
       "      <td>2017</td>\n",
       "      <td>жен</td>\n",
       "      <td>ДН</td>\n",
       "      <td>английский</td>\n",
       "      <td>1999-03-21</td>\n",
       "      <td>сош</td>\n",
       "      <td>алтай</td>\n",
       "      <td>2017.0</td>\n",
       "      <td>...</td>\n",
       "      <td>1.0</td>\n",
       "      <td>россия</td>\n",
       "      <td>0.0</td>\n",
       "      <td>0.0</td>\n",
       "      <td>0.0</td>\n",
       "      <td>41.0</td>\n",
       "      <td>4.133</td>\n",
       "      <td>4</td>\n",
       "      <td>10</td>\n",
       "      <td>1485</td>\n",
       "    </tr>\n",
       "    <tr>\n",
       "      <th>2</th>\n",
       "      <td>72669</td>\n",
       "      <td>18733</td>\n",
       "      <td>2015</td>\n",
       "      <td>муж</td>\n",
       "      <td>СН</td>\n",
       "      <td>английский</td>\n",
       "      <td>1997-11-13</td>\n",
       "      <td>сош</td>\n",
       "      <td>алтай</td>\n",
       "      <td>2015.0</td>\n",
       "      <td>...</td>\n",
       "      <td>0.0</td>\n",
       "      <td>россия</td>\n",
       "      <td>0.0</td>\n",
       "      <td>0.0</td>\n",
       "      <td>0.0</td>\n",
       "      <td>41.0</td>\n",
       "      <td>3.692</td>\n",
       "      <td>3</td>\n",
       "      <td>2</td>\n",
       "      <td>1485</td>\n",
       "    </tr>\n",
       "    <tr>\n",
       "      <th>3</th>\n",
       "      <td>81843</td>\n",
       "      <td>20091</td>\n",
       "      <td>2017</td>\n",
       "      <td>жен</td>\n",
       "      <td>ОО</td>\n",
       "      <td>английский</td>\n",
       "      <td>2001-04-23</td>\n",
       "      <td>сош</td>\n",
       "      <td>алтай</td>\n",
       "      <td>2017.0</td>\n",
       "      <td>...</td>\n",
       "      <td>1.0</td>\n",
       "      <td>россия</td>\n",
       "      <td>0.0</td>\n",
       "      <td>0.0</td>\n",
       "      <td>0.0</td>\n",
       "      <td>41.0</td>\n",
       "      <td>4.470</td>\n",
       "      <td>3</td>\n",
       "      <td>1</td>\n",
       "      <td>1485</td>\n",
       "    </tr>\n",
       "    <tr>\n",
       "      <th>4</th>\n",
       "      <td>72581</td>\n",
       "      <td>17440</td>\n",
       "      <td>2015</td>\n",
       "      <td>жен</td>\n",
       "      <td>ОО</td>\n",
       "      <td>немецкий</td>\n",
       "      <td>1997-08-05</td>\n",
       "      <td>сош</td>\n",
       "      <td>алтай</td>\n",
       "      <td>2015.0</td>\n",
       "      <td>...</td>\n",
       "      <td>0.0</td>\n",
       "      <td>россия</td>\n",
       "      <td>0.0</td>\n",
       "      <td>0.0</td>\n",
       "      <td>0.0</td>\n",
       "      <td>41.0</td>\n",
       "      <td>4.600</td>\n",
       "      <td>4</td>\n",
       "      <td>7</td>\n",
       "      <td>1485</td>\n",
       "    </tr>\n",
       "  </tbody>\n",
       "</table>\n",
       "<p>5 rows × 26 columns</p>\n",
       "</div>"
      ],
      "text/plain": [
       "      ID  Код_группы  Год_Поступления  Пол Основания Изучаемый_Язык  \\\n",
       "0  72716       16019             2015  жен        ОО     английский   \n",
       "1  82469       20103             2017  жен        ДН     английский   \n",
       "2  72669       18733             2015  муж        СН     английский   \n",
       "3  81843       20091             2017  жен        ОО     английский   \n",
       "4  72581       17440             2015  жен        ОО       немецкий   \n",
       "\n",
       "  Дата_Рождения Уч_Заведение Где_Находится_УЗ  Год_Окончания_УЗ  ...  \\\n",
       "0    1998-02-08          сош            алтай            2014.0  ...   \n",
       "1    1999-03-21          сош            алтай            2017.0  ...   \n",
       "2    1997-11-13          сош            алтай            2015.0  ...   \n",
       "3    2001-04-23          сош            алтай            2017.0  ...   \n",
       "4    1997-08-05          сош            алтай            2015.0  ...   \n",
       "\n",
       "   Наличие_Отца Страна_Родители Опекунство Село  Иностранец  КодФакультета  \\\n",
       "0           0.0          россия        0.0  0.0         0.0           41.0   \n",
       "1           1.0          россия        0.0  0.0         0.0           41.0   \n",
       "2           0.0          россия        0.0  0.0         0.0           41.0   \n",
       "3           1.0          россия        0.0  0.0         0.0           41.0   \n",
       "4           0.0          россия        0.0  0.0         0.0           41.0   \n",
       "\n",
       "   СрБаллАттестата Статус  Студентов_в_группе  Студентов_на_факультете  \n",
       "0            4.294      3                   2                     1485  \n",
       "1            4.133      4                  10                     1485  \n",
       "2            3.692      3                   2                     1485  \n",
       "3            4.470      3                   1                     1485  \n",
       "4            4.600      4                   7                     1485  \n",
       "\n",
       "[5 rows x 26 columns]"
      ]
     },
     "execution_count": 44,
     "metadata": {},
     "output_type": "execute_result"
    }
   ],
   "source": [
    "df.head()"
   ]
  },
  {
   "cell_type": "code",
   "execution_count": 45,
   "metadata": {},
   "outputs": [
    {
     "data": {
      "text/html": [
       "<div>\n",
       "<style scoped>\n",
       "    .dataframe tbody tr th:only-of-type {\n",
       "        vertical-align: middle;\n",
       "    }\n",
       "\n",
       "    .dataframe tbody tr th {\n",
       "        vertical-align: top;\n",
       "    }\n",
       "\n",
       "    .dataframe thead th {\n",
       "        text-align: right;\n",
       "    }\n",
       "</style>\n",
       "<table border=\"1\" class=\"dataframe\">\n",
       "  <thead>\n",
       "    <tr style=\"text-align: right;\">\n",
       "      <th></th>\n",
       "      <th>ID</th>\n",
       "      <th>Код_группы</th>\n",
       "      <th>Год_Поступления</th>\n",
       "      <th>Пол</th>\n",
       "      <th>Основания</th>\n",
       "      <th>Изучаемый_Язык</th>\n",
       "      <th>Дата_Рождения</th>\n",
       "      <th>Уч_Заведение</th>\n",
       "      <th>Где_Находится_УЗ</th>\n",
       "      <th>Год_Окончания_УЗ</th>\n",
       "      <th>...</th>\n",
       "      <th>Студентов_на_факультете</th>\n",
       "      <th>Год_рождения</th>\n",
       "      <th>Возраст_поступления</th>\n",
       "      <th>лет_между</th>\n",
       "      <th>Месяц_рождения</th>\n",
       "      <th>родители_иностранцы</th>\n",
       "      <th>Код_группы_1</th>\n",
       "      <th>Код_группы_2</th>\n",
       "      <th>Наличие_родителей</th>\n",
       "      <th>Супер_признак</th>\n",
       "    </tr>\n",
       "  </thead>\n",
       "  <tbody>\n",
       "    <tr>\n",
       "      <th>0</th>\n",
       "      <td>72716</td>\n",
       "      <td>16019</td>\n",
       "      <td>2015</td>\n",
       "      <td>жен</td>\n",
       "      <td>ОО</td>\n",
       "      <td>английский</td>\n",
       "      <td>1998-02-08</td>\n",
       "      <td>сош</td>\n",
       "      <td>алтай</td>\n",
       "      <td>2014.0</td>\n",
       "      <td>...</td>\n",
       "      <td>1485</td>\n",
       "      <td>1998</td>\n",
       "      <td>17</td>\n",
       "      <td>1.0</td>\n",
       "      <td>0</td>\n",
       "      <td>0</td>\n",
       "      <td>160</td>\n",
       "      <td>19</td>\n",
       "      <td>0.0</td>\n",
       "      <td>4.736923</td>\n",
       "    </tr>\n",
       "    <tr>\n",
       "      <th>1</th>\n",
       "      <td>82469</td>\n",
       "      <td>20103</td>\n",
       "      <td>2017</td>\n",
       "      <td>жен</td>\n",
       "      <td>ДН</td>\n",
       "      <td>английский</td>\n",
       "      <td>1999-03-21</td>\n",
       "      <td>сош</td>\n",
       "      <td>алтай</td>\n",
       "      <td>2017.0</td>\n",
       "      <td>...</td>\n",
       "      <td>1485</td>\n",
       "      <td>1999</td>\n",
       "      <td>18</td>\n",
       "      <td>0.0</td>\n",
       "      <td>0</td>\n",
       "      <td>0</td>\n",
       "      <td>201</td>\n",
       "      <td>3</td>\n",
       "      <td>2.0</td>\n",
       "      <td>10.820429</td>\n",
       "    </tr>\n",
       "    <tr>\n",
       "      <th>2</th>\n",
       "      <td>72669</td>\n",
       "      <td>18733</td>\n",
       "      <td>2015</td>\n",
       "      <td>муж</td>\n",
       "      <td>СН</td>\n",
       "      <td>английский</td>\n",
       "      <td>1997-11-13</td>\n",
       "      <td>сош</td>\n",
       "      <td>алтай</td>\n",
       "      <td>2015.0</td>\n",
       "      <td>...</td>\n",
       "      <td>1485</td>\n",
       "      <td>1997</td>\n",
       "      <td>18</td>\n",
       "      <td>0.0</td>\n",
       "      <td>0</td>\n",
       "      <td>0</td>\n",
       "      <td>187</td>\n",
       "      <td>33</td>\n",
       "      <td>0.0</td>\n",
       "      <td>4.198912</td>\n",
       "    </tr>\n",
       "    <tr>\n",
       "      <th>3</th>\n",
       "      <td>81843</td>\n",
       "      <td>20091</td>\n",
       "      <td>2017</td>\n",
       "      <td>жен</td>\n",
       "      <td>ОО</td>\n",
       "      <td>английский</td>\n",
       "      <td>2001-04-23</td>\n",
       "      <td>сош</td>\n",
       "      <td>алтай</td>\n",
       "      <td>2017.0</td>\n",
       "      <td>...</td>\n",
       "      <td>1485</td>\n",
       "      <td>2001</td>\n",
       "      <td>16</td>\n",
       "      <td>0.0</td>\n",
       "      <td>0</td>\n",
       "      <td>0</td>\n",
       "      <td>200</td>\n",
       "      <td>91</td>\n",
       "      <td>2.0</td>\n",
       "      <td>4.580491</td>\n",
       "    </tr>\n",
       "    <tr>\n",
       "      <th>4</th>\n",
       "      <td>72581</td>\n",
       "      <td>17440</td>\n",
       "      <td>2015</td>\n",
       "      <td>жен</td>\n",
       "      <td>ОО</td>\n",
       "      <td>немецкий</td>\n",
       "      <td>1997-08-05</td>\n",
       "      <td>сош</td>\n",
       "      <td>алтай</td>\n",
       "      <td>2015.0</td>\n",
       "      <td>...</td>\n",
       "      <td>1485</td>\n",
       "      <td>1997</td>\n",
       "      <td>18</td>\n",
       "      <td>0.0</td>\n",
       "      <td>1</td>\n",
       "      <td>0</td>\n",
       "      <td>174</td>\n",
       "      <td>40</td>\n",
       "      <td>0.0</td>\n",
       "      <td>8.376157</td>\n",
       "    </tr>\n",
       "  </tbody>\n",
       "</table>\n",
       "<p>5 rows × 35 columns</p>\n",
       "</div>"
      ],
      "text/plain": [
       "      ID  Код_группы  Год_Поступления  Пол Основания Изучаемый_Язык  \\\n",
       "0  72716       16019             2015  жен        ОО     английский   \n",
       "1  82469       20103             2017  жен        ДН     английский   \n",
       "2  72669       18733             2015  муж        СН     английский   \n",
       "3  81843       20091             2017  жен        ОО     английский   \n",
       "4  72581       17440             2015  жен        ОО       немецкий   \n",
       "\n",
       "  Дата_Рождения Уч_Заведение Где_Находится_УЗ  Год_Окончания_УЗ  ...  \\\n",
       "0    1998-02-08          сош            алтай            2014.0  ...   \n",
       "1    1999-03-21          сош            алтай            2017.0  ...   \n",
       "2    1997-11-13          сош            алтай            2015.0  ...   \n",
       "3    2001-04-23          сош            алтай            2017.0  ...   \n",
       "4    1997-08-05          сош            алтай            2015.0  ...   \n",
       "\n",
       "   Студентов_на_факультете Год_рождения Возраст_поступления лет_между  \\\n",
       "0                     1485         1998                  17       1.0   \n",
       "1                     1485         1999                  18       0.0   \n",
       "2                     1485         1997                  18       0.0   \n",
       "3                     1485         2001                  16       0.0   \n",
       "4                     1485         1997                  18       0.0   \n",
       "\n",
       "   Месяц_рождения  родители_иностранцы  Код_группы_1 Код_группы_2  \\\n",
       "0               0                    0           160           19   \n",
       "1               0                    0           201            3   \n",
       "2               0                    0           187           33   \n",
       "3               0                    0           200           91   \n",
       "4               1                    0           174           40   \n",
       "\n",
       "   Наличие_родителей  Супер_признак  \n",
       "0                0.0       4.736923  \n",
       "1                2.0      10.820429  \n",
       "2                0.0       4.198912  \n",
       "3                2.0       4.580491  \n",
       "4                0.0       8.376157  \n",
       "\n",
       "[5 rows x 35 columns]"
      ]
     },
     "execution_count": 45,
     "metadata": {},
     "output_type": "execute_result"
    }
   ],
   "source": [
    "# Генерация дополнительных признаков\n",
    "\n",
    "df = create_features(df)\n",
    "df_test = create_features(df_test)\n",
    "df.head()"
   ]
  },
  {
   "cell_type": "code",
   "execution_count": 46,
   "metadata": {},
   "outputs": [],
   "source": [
    "features_columns = [\n",
    "                    'Год_рождения',\n",
    "                    # 'Возраст_поступления',\n",
    "#     !!!!!!!!!!!\n",
    "                    # 'лет_между',\n",
    "                    # 'Месяц_рождения',\n",
    "                    # 'Возраст_поступления_20',\n",
    "                    'Студентов_в_группе',\n",
    "                    # 'Студентов_на_факультете',\n",
    "                    # 'родители_иностранцы',\n",
    "                    # 'Код_группы_1',\n",
    "                    'Код_группы_2',\n",
    "                    # 'Наличие_родителей',\n",
    "                    # 'Супер_признак',\n",
    "]"
   ]
  },
  {
   "cell_type": "code",
   "execution_count": 47,
   "metadata": {},
   "outputs": [],
   "source": [
    "# Преобразуем тип даннных категориальных признаков из object в category для правильной работы в LGBM\n",
    "df[mass_object] = df[mass_object].astype('category')\n",
    "df_test[mass_object] = df_test[mass_object].astype('category')"
   ]
  },
  {
   "cell_type": "markdown",
   "metadata": {},
   "source": [
    "**Вывод:** Признаки сформированы."
   ]
  },
  {
   "cell_type": "markdown",
   "metadata": {
    "id": "VLOa56f5zfUg"
   },
   "source": [
    "## Выделим выборки"
   ]
  },
  {
   "cell_type": "code",
   "execution_count": 48,
   "metadata": {
    "id": "czsoZexkyyTw"
   },
   "outputs": [
    {
     "name": "stderr",
     "output_type": "stream",
     "text": [
      "\n",
      "A value is trying to be set on a copy of a slice from a DataFrame.\n",
      "Try using .loc[row_indexer,col_indexer] = value instead\n",
      "\n",
      "See the caveats in the documentation: https://pandas.pydata.org/pandas-docs/stable/user_guide/indexing.html#returning-a-view-versus-a-copy\n"
     ]
    },
    {
     "data": {
      "text/html": [
       "<div>\n",
       "<style scoped>\n",
       "    .dataframe tbody tr th:only-of-type {\n",
       "        vertical-align: middle;\n",
       "    }\n",
       "\n",
       "    .dataframe tbody tr th {\n",
       "        vertical-align: top;\n",
       "    }\n",
       "\n",
       "    .dataframe thead th {\n",
       "        text-align: right;\n",
       "    }\n",
       "</style>\n",
       "<table border=\"1\" class=\"dataframe\">\n",
       "  <thead>\n",
       "    <tr style=\"text-align: right;\">\n",
       "      <th></th>\n",
       "      <th>Пол</th>\n",
       "      <th>Основания</th>\n",
       "      <th>Изучаемый_Язык</th>\n",
       "      <th>Уч_Заведение</th>\n",
       "      <th>Где_Находится_УЗ</th>\n",
       "      <th>Страна_ПП</th>\n",
       "      <th>Страна_Родители</th>\n",
       "      <th>ID</th>\n",
       "      <th>Код_группы</th>\n",
       "      <th>Год_Поступления</th>\n",
       "      <th>Год_Окончания_УЗ</th>\n",
       "      <th>Общежитие</th>\n",
       "      <th>Село</th>\n",
       "      <th>Иностранец</th>\n",
       "      <th>КодФакультета</th>\n",
       "      <th>СрБаллАттестата</th>\n",
       "      <th>Год_рождения</th>\n",
       "      <th>Студентов_в_группе</th>\n",
       "      <th>Код_группы_2</th>\n",
       "    </tr>\n",
       "  </thead>\n",
       "  <tbody>\n",
       "    <tr>\n",
       "      <th>0</th>\n",
       "      <td>жен</td>\n",
       "      <td>ОО</td>\n",
       "      <td>английский</td>\n",
       "      <td>сош</td>\n",
       "      <td>алтай</td>\n",
       "      <td>россия</td>\n",
       "      <td>россия</td>\n",
       "      <td>72716</td>\n",
       "      <td>16019</td>\n",
       "      <td>2015</td>\n",
       "      <td>2014.0</td>\n",
       "      <td>0.0</td>\n",
       "      <td>0.0</td>\n",
       "      <td>0.0</td>\n",
       "      <td>41.0</td>\n",
       "      <td>4.294</td>\n",
       "      <td>1998</td>\n",
       "      <td>2</td>\n",
       "      <td>19</td>\n",
       "    </tr>\n",
       "    <tr>\n",
       "      <th>1</th>\n",
       "      <td>жен</td>\n",
       "      <td>ДН</td>\n",
       "      <td>английский</td>\n",
       "      <td>сош</td>\n",
       "      <td>алтай</td>\n",
       "      <td>россия</td>\n",
       "      <td>россия</td>\n",
       "      <td>82469</td>\n",
       "      <td>20103</td>\n",
       "      <td>2017</td>\n",
       "      <td>2017.0</td>\n",
       "      <td>0.0</td>\n",
       "      <td>0.0</td>\n",
       "      <td>0.0</td>\n",
       "      <td>41.0</td>\n",
       "      <td>4.133</td>\n",
       "      <td>1999</td>\n",
       "      <td>10</td>\n",
       "      <td>3</td>\n",
       "    </tr>\n",
       "    <tr>\n",
       "      <th>2</th>\n",
       "      <td>муж</td>\n",
       "      <td>СН</td>\n",
       "      <td>английский</td>\n",
       "      <td>сош</td>\n",
       "      <td>алтай</td>\n",
       "      <td>россия</td>\n",
       "      <td>россия</td>\n",
       "      <td>72669</td>\n",
       "      <td>18733</td>\n",
       "      <td>2015</td>\n",
       "      <td>2015.0</td>\n",
       "      <td>0.0</td>\n",
       "      <td>0.0</td>\n",
       "      <td>0.0</td>\n",
       "      <td>41.0</td>\n",
       "      <td>3.692</td>\n",
       "      <td>1997</td>\n",
       "      <td>2</td>\n",
       "      <td>33</td>\n",
       "    </tr>\n",
       "    <tr>\n",
       "      <th>3</th>\n",
       "      <td>жен</td>\n",
       "      <td>ОО</td>\n",
       "      <td>английский</td>\n",
       "      <td>сош</td>\n",
       "      <td>алтай</td>\n",
       "      <td>россия</td>\n",
       "      <td>россия</td>\n",
       "      <td>81843</td>\n",
       "      <td>20091</td>\n",
       "      <td>2017</td>\n",
       "      <td>2017.0</td>\n",
       "      <td>0.0</td>\n",
       "      <td>0.0</td>\n",
       "      <td>0.0</td>\n",
       "      <td>41.0</td>\n",
       "      <td>4.470</td>\n",
       "      <td>2001</td>\n",
       "      <td>1</td>\n",
       "      <td>91</td>\n",
       "    </tr>\n",
       "    <tr>\n",
       "      <th>4</th>\n",
       "      <td>жен</td>\n",
       "      <td>ОО</td>\n",
       "      <td>немецкий</td>\n",
       "      <td>сош</td>\n",
       "      <td>алтай</td>\n",
       "      <td>россия</td>\n",
       "      <td>россия</td>\n",
       "      <td>72581</td>\n",
       "      <td>17440</td>\n",
       "      <td>2015</td>\n",
       "      <td>2015.0</td>\n",
       "      <td>1.0</td>\n",
       "      <td>0.0</td>\n",
       "      <td>0.0</td>\n",
       "      <td>41.0</td>\n",
       "      <td>4.600</td>\n",
       "      <td>1997</td>\n",
       "      <td>7</td>\n",
       "      <td>40</td>\n",
       "    </tr>\n",
       "  </tbody>\n",
       "</table>\n",
       "</div>"
      ],
      "text/plain": [
       "   Пол Основания Изучаемый_Язык Уч_Заведение Где_Находится_УЗ Страна_ПП  \\\n",
       "0  жен        ОО     английский          сош            алтай    россия   \n",
       "1  жен        ДН     английский          сош            алтай    россия   \n",
       "2  муж        СН     английский          сош            алтай    россия   \n",
       "3  жен        ОО     английский          сош            алтай    россия   \n",
       "4  жен        ОО       немецкий          сош            алтай    россия   \n",
       "\n",
       "  Страна_Родители     ID  Код_группы  Год_Поступления  Год_Окончания_УЗ  \\\n",
       "0          россия  72716       16019             2015            2014.0   \n",
       "1          россия  82469       20103             2017            2017.0   \n",
       "2          россия  72669       18733             2015            2015.0   \n",
       "3          россия  81843       20091             2017            2017.0   \n",
       "4          россия  72581       17440             2015            2015.0   \n",
       "\n",
       "   Общежитие  Село  Иностранец  КодФакультета  СрБаллАттестата  Год_рождения  \\\n",
       "0        0.0   0.0         0.0           41.0            4.294          1998   \n",
       "1        0.0   0.0         0.0           41.0            4.133          1999   \n",
       "2        0.0   0.0         0.0           41.0            3.692          1997   \n",
       "3        0.0   0.0         0.0           41.0            4.470          2001   \n",
       "4        1.0   0.0         0.0           41.0            4.600          1997   \n",
       "\n",
       "   Студентов_в_группе  Код_группы_2  \n",
       "0                   2            19  \n",
       "1                  10             3  \n",
       "2                   2            33  \n",
       "3                   1            91  \n",
       "4                   7            40  "
      ]
     },
     "execution_count": 48,
     "metadata": {},
     "output_type": "execute_result"
    }
   ],
   "source": [
    "X = df[category_columns + numeric_columns + features_columns]\n",
    "\n",
    "y = df[[\"Статус\"]]\n",
    "\n",
    "X_train, X_test, y_train, y_test = train_test_split(X, y, test_size=0.3, random_state=42)\n",
    "\n",
    "encoder = OrdinalEncoder(handle_unknown='use_encoded_value', unknown_value = 99999)\n",
    "\n",
    "preprocessor_OHE = ColumnTransformer(transformers=[#('num', Normalizer(), numeric_columns+features_columns),\n",
    "                                                   ('cat', OneHotEncoder(drop='first', \n",
    "                                                                         handle_unknown='ignore'), category_columns)\n",
    "                                                  ],\n",
    "                                     remainder='passthrough'\n",
    "                                    )\n",
    "\n",
    "\n",
    "# X_train[category_columns] = encoder.fit_transform(X_train[category_columns])\n",
    "X_original = X.copy()\n",
    "X[category_columns] = encoder.fit_transform(X[category_columns])\n",
    "# X = oh_encoder.fit_transform(X)\n",
    "# st_scaller = StandardScaler()\n",
    "# X = st_scaller.fit_transform(X)\n",
    "\n",
    "# X.head()\n",
    "\n",
    "X_original.head()"
   ]
  },
  {
   "cell_type": "code",
   "execution_count": 49,
   "metadata": {
    "colab": {
     "base_uri": "https://localhost:8080/"
    },
    "id": "BSNwra3e07wI",
    "outputId": "e77fca40-f28a-4bf8-d52c-7f48d6ad9702"
   },
   "outputs": [
    {
     "data": {
      "text/plain": [
       "(13584, 19)"
      ]
     },
     "execution_count": 49,
     "metadata": {},
     "output_type": "execute_result"
    }
   ],
   "source": [
    "X.shape"
   ]
  },
  {
   "cell_type": "code",
   "execution_count": 50,
   "metadata": {},
   "outputs": [
    {
     "data": {
      "text/plain": [
       "(13584, 31)"
      ]
     },
     "execution_count": 50,
     "metadata": {},
     "output_type": "execute_result"
    }
   ],
   "source": [
    "X_ohe = preprocessor_OHE.fit_transform(X_original)\n",
    "X_ohe.shape "
   ]
  },
  {
   "cell_type": "code",
   "execution_count": 51,
   "metadata": {},
   "outputs": [
    {
     "data": {
      "image/png": "[encoded data removed]",
      "text/plain": [
       "<Figure size 1080x1080 with 2 Axes>"
      ]
     },
     "metadata": {
      "needs_background": "light"
     },
     "output_type": "display_data"
    }
   ],
   "source": [
    "# Анализ итоговой таблицы признаков\n",
    "plt.rcParams['figure.figsize']=(15,15)\n",
    "\n",
    "# X_corr = list(set(X.columns.values) - set(['Опекунство','Пособие']))\n",
    "g = sns.heatmap(X[category_columns + numeric_columns + features_columns].corr(), square = True, annot=True)"
   ]
  },
  {
   "cell_type": "code",
   "execution_count": 52,
   "metadata": {},
   "outputs": [],
   "source": [
    "# sns.pairplot(df[category_columns + numeric_columns + features_columns + ['Статус']], hue='Статус')"
   ]
  },
  {
   "cell_type": "markdown",
   "metadata": {},
   "source": [
    "**Вывод**\n",
    "\n",
    "1. Данные обработаны.\n",
    "2. Сгенерированы дополнительные признаки.\n",
    "3. Подготовлены выборки к обучению моделей."
   ]
  },
  {
   "cell_type": "markdown",
   "metadata": {
    "id": "X_HOvpXy2e3S"
   },
   "source": [
    "## 3. Обучение модели\n",
    "\n",
    "Обучим несколько моделей МО с подбором гиперпараметров и выберем лучшую:\n",
    "1. RandomForestClassifier\n",
    "2. CatBoostClassifier\n",
    "3. LightGBMClassifier\n",
    "4. XGBoostClassifier\n",
    "\n",
    "В даннои ноутбуке я оставил только модель, показавшую максимальнуое качество - CatBoostClassifier"
   ]
  },
  {
   "cell_type": "markdown",
   "metadata": {},
   "source": [
    "### CatBoostClassifier"
   ]
  },
  {
   "cell_type": "code",
   "execution_count": 53,
   "metadata": {},
   "outputs": [
    {
     "name": "stdout",
     "output_type": "stream",
     "text": [
      "CPU times: total: 3min 12s\n",
      "Wall time: 48.4 s\n"
     ]
    },
    {
     "data": {
      "text/plain": [
       "0.7753364623600126"
      ]
     },
     "execution_count": 53,
     "metadata": {},
     "output_type": "execute_result"
    }
   ],
   "source": [
    "# %%time\n",
    "# cb_clf = CatBoostClassifier(learning_rate=0.3,\n",
    "#                             l2_leaf_reg=18,\n",
    "#                             depth=7,\n",
    "#                             silent=True,\n",
    "#                             iterations=400,\n",
    "#                             auto_class_weights='SqrtBalanced',\n",
    "#                             random_state=12345)\n",
    "# cb_clf.fit(X_train, y_train, cat_features=category_columns, silent=True)\n",
    "# pred = cb_clf.predict(X_test)\n",
    "# f1_score(y_test, pred, average='macro', zero_division = 0) "
   ]
  },
  {
   "cell_type": "code",
   "execution_count": 54,
   "metadata": {
    "scrolled": true,
    "tags": []
   },
   "outputs": [],
   "source": [
    "# %%time\n",
    "# # CatBoost с автоподбором параметров\n",
    "# parametrs = { 'l2_leaf_reg': range(1,30),\n",
    "#               'learning_rate': [0.01, 0.02, 0.05, 0.08, 0.1, 0.2, 0.5, 0.8, 1],\n",
    "#               'depth' : range(1,10)\n",
    "# }\n",
    "\n",
    "# cb_clf = CatBoostClassifier(iterations=1000,\n",
    "#                             auto_class_weights='SqrtBalanced',\n",
    "#                             silent=True)\n",
    "# randCV_cat = RandomizedSearchCV(cb_clf, \n",
    "#                                 parametrs, \n",
    "#                                 scoring='f1_macro', \n",
    "#                                 cv=5, \n",
    "#                                 n_iter=10,\n",
    "#                                 n_jobs=-1,\n",
    "#                                 random_state=5555)\n",
    "# randCV_cat.fit(X_ohe, y)\n",
    "# print('Параметры модели:', randCV_cat.best_params_)\n",
    "# print('Лучший f1 модели:', randCV_cat.best_score_)"
   ]
  },
  {
   "cell_type": "code",
   "execution_count": 55,
   "metadata": {},
   "outputs": [],
   "source": [
    "# %%time\n",
    "# # CatBoost с автоподбором параметров\n",
    "# parametrs = { 'l2_leaf_reg': range(15,22),\n",
    "#               'learning_rate': [0.25, 0.26, 0.27, 0.28, 0.29, 0.3, 0.31, 0.32, 0.33],\n",
    "#               'depth' : range(5,9)\n",
    "# }\n",
    "\n",
    "# cb_clf = CatBoostClassifier(iterations=500,\n",
    "#                             auto_class_weights='SqrtBalanced',\n",
    "#                             silent=True)\n",
    "# gridCV_cat = GridSearchCV(cb_clf,\n",
    "#                            parametrs,\n",
    "#                            scoring='f1_macro',\n",
    "#                            cv=5,\n",
    "#                            n_jobs=-1,\n",
    "#                          )\n",
    "# gridCV_cat.fit(X_ohe, y)\n",
    "# print('Параметры модели:', gridCV_cat.best_params_)\n",
    "# print('Лучший f1 модели:', gridCV_cat.best_score_)"
   ]
  },
  {
   "cell_type": "code",
   "execution_count": 54,
   "metadata": {},
   "outputs": [
    {
     "name": "stdout",
     "output_type": "stream",
     "text": [
      "CPU times: total: 78.1 ms\n",
      "Wall time: 13.8 s\n"
     ]
    },
    {
     "data": {
      "text/plain": [
       "0.7217548240444192"
      ]
     },
     "execution_count": 54,
     "metadata": {},
     "output_type": "execute_result"
    }
   ],
   "source": [
    "%%time\n",
    "cb_clf = CatBoostClassifier(learning_rate=0.28, #0.15\n",
    "                            l2_leaf_reg=18,     # 22\n",
    "                            depth=7,            # 5\n",
    "                            # loss_function='MultiClassOneVsAll',\n",
    "                            silent=True,\n",
    "                            iterations=500,     # 1000\n",
    "                            auto_class_weights='SqrtBalanced',\n",
    "                            random_state=12345\n",
    "                           )\n",
    "\n",
    "cv_score = cross_val_score( cb_clf, \n",
    "                            # X_ohe, \n",
    "                            X,\n",
    "                            y, \n",
    "                            n_jobs=-1, \n",
    "                            scoring='f1_macro')\n",
    "np.mean(cv_score)"
   ]
  },
  {
   "cell_type": "markdown",
   "metadata": {},
   "source": [
    "**Вывод**\n",
    "\n",
    "Несмотря на то, что значение F1 у данной модели на кросвалидации оказалось давольно небольшим, на тестовом датасете оно максимальное из рассмотренных моделей и равно 0.799. Также, были примены различные методы кодирования категориальных признаков: OE, OHE и с самостоятельным кодированием внутри модели. Наилучшее качество модель показала со способом кодирования OE."
   ]
  },
  {
   "cell_type": "markdown",
   "metadata": {
    "tags": []
   },
   "source": [
    "### LGBMClassifier"
   ]
  },
  {
   "cell_type": "code",
   "execution_count": 57,
   "metadata": {},
   "outputs": [
    {
     "name": "stdout",
     "output_type": "stream",
     "text": [
      "CPU times: total: 31.2 ms\n",
      "Wall time: 4.28 s\n"
     ]
    },
    {
     "data": {
      "text/plain": [
       "0.6986881411222658"
      ]
     },
     "execution_count": 57,
     "metadata": {},
     "output_type": "execute_result"
    }
   ],
   "source": [
    "%%time\n",
    "lgbm_clf = LGBMClassifier(n_estimators=200, \n",
    "                          learning_rate=0.07,\n",
    "                          max_depth=66,\n",
    "                          # boosting_type='goss',\n",
    "                          random_state=12345,\n",
    "                          num_leaves=51,\n",
    "                          # class_weight='balanced',\n",
    "                           )\n",
    "\n",
    "np.mean(cross_val_score(lgbm_clf, \n",
    "                        # X,\n",
    "                        X_original, \n",
    "                        # X_ohe,\n",
    "                        y, \n",
    "                        n_jobs=-1, \n",
    "                        scoring='f1_macro'))"
   ]
  },
  {
   "cell_type": "code",
   "execution_count": 280,
   "metadata": {
    "scrolled": true,
    "tags": []
   },
   "outputs": [
    {
     "name": "stderr",
     "output_type": "stream",
     "text": [
      "A column-vector y was passed when a 1d array was expected. Please change the shape of y to (n_samples, ), for example using ravel().\n",
      "A column-vector y was passed when a 1d array was expected. Please change the shape of y to (n_samples, ), for example using ravel().\n"
     ]
    },
    {
     "name": "stdout",
     "output_type": "stream",
     "text": [
      "Параметры модели: {'num_leaves': 51, 'n_estimators': 200, 'max_depth': 66, 'learning_rate': 0.07}\n",
      "Лучший F1 модели: 0.7825482880628577\n",
      "CPU times: total: 7.36 s\n",
      "Wall time: 1min\n"
     ]
    }
   ],
   "source": [
    "# %%time\n",
    "# # LGBMRegressor с автоподбором параметров\n",
    "# parametrs = { 'n_estimators': range(200, 401, 10),\n",
    "#               'learning_rate': [0.001, 0.003, 0.005, 0.008, 0.01, 0.02, 0.05, 0.07, 0.1, 0.2, 0.5],\n",
    "#               'max_depth': range(20,70),\n",
    "#               'num_leaves': range(30,80),\n",
    "#             }\n",
    "\n",
    "# lgbm_clf = LGBMClassifier(random_state=12345)\n",
    "# randCV_lgbm = RandomizedSearchCV(lgbm_clf, \n",
    "#                                  parametrs, \n",
    "#                                  scoring='f1_macro',\n",
    "#                                  cv=5,\n",
    "#                                  n_iter=20,\n",
    "#                                  n_jobs=-1,\n",
    "#                                  random_state=5555\n",
    "#                                  )\n",
    "# randCV_lgbm.fit(X_original, y)\n",
    "# print('Параметры модели:', randCV_lgbm.best_params_)\n",
    "# print('Лучший F1 модели:', randCV_lgbm.best_score_)"
   ]
  },
  {
   "cell_type": "markdown",
   "metadata": {},
   "source": [
    "Параметры модели: {'num_leaves': 51, 'n_estimators': 200, 'max_depth': 66, 'learning_rate': 0.07}\n",
    "Лучший F1 модели: 0.7825482880628577\n",
    "CPU times: total: 7.36 s\n",
    "Wall time: 1min"
   ]
  },
  {
   "cell_type": "markdown",
   "metadata": {},
   "source": [
    "Параметры модели: {'n_estimators': 200, 'learning_rate': 0.02}\n",
    "Лучший F1 модели: 0.7202722350746995\n",
    "CPU times: total: 2min 30s3"
   ]
  },
  {
   "cell_type": "markdown",
   "metadata": {},
   "source": [
    "**Вывод**\n",
    "\n",
    "Модель LGBM, также как и CatBoost на тестовых данных показывает давольно не плохое значение метрики F1=0.782"
   ]
  },
  {
   "cell_type": "markdown",
   "metadata": {},
   "source": [
    "### XGBoostClassifier"
   ]
  },
  {
   "cell_type": "code",
   "execution_count": 58,
   "metadata": {},
   "outputs": [],
   "source": [
    "# XGBoost требует преобразования целевого признака от вида -1,3,4 к виду 0,1,2\n",
    "def y_for_xgb(data):\n",
    "\n",
    "    yy = []\n",
    "    for i in data['Статус']:\n",
    "        i -= 2\n",
    "        yy.append(max(0,i))\n",
    "    return yy\n",
    "\n",
    "def y_convert(data):\n",
    "    \n",
    "    result = []\n",
    "    \n",
    "    for i in data:\n",
    "        i += 2\n",
    "        if i == 2:\n",
    "            i = -1\n",
    "        result.append(i)\n",
    "    return result\n",
    "    \n",
    "yy = y_for_xgb(y)\n"
   ]
  },
  {
   "cell_type": "code",
   "execution_count": 59,
   "metadata": {},
   "outputs": [
    {
     "name": "stdout",
     "output_type": "stream",
     "text": [
      "CPU times: total: 93.8 ms\n",
      "Wall time: 1min 16s\n"
     ]
    },
    {
     "data": {
      "text/plain": [
       "0.7108290201016491"
      ]
     },
     "execution_count": 59,
     "metadata": {},
     "output_type": "execute_result"
    }
   ],
   "source": [
    "%%time\n",
    "xgb_clf = XGBClassifier(n_estimators=450, \n",
    "                        learning_rate=0.05,\n",
    "                        max_depth=46,\n",
    "                        n_jobs=-1,\n",
    "                        random_state=12345,\n",
    "                        # num_parallel_tree=2,\n",
    "                        # class_weight='balanced',\n",
    "                        # enable_categorical=True\n",
    "                       )\n",
    "\n",
    "np.mean(cross_val_score(xgb_clf, \n",
    "                        X,\n",
    "                        # X_original, \n",
    "                        yy, \n",
    "                        n_jobs=-1, \n",
    "                        scoring='f1_macro'))"
   ]
  },
  {
   "cell_type": "code",
   "execution_count": 286,
   "metadata": {},
   "outputs": [
    {
     "name": "stdout",
     "output_type": "stream",
     "text": [
      "Параметры модели: {'n_estimators': 450, 'max_depth': 46, 'learning_rate': 0.05}\n",
      "Лучший F1 модели: 0.7766173673722121\n",
      "CPU times: total: 2min 33s\n",
      "Wall time: 7min 40s\n"
     ]
    }
   ],
   "source": [
    "# %%time\n",
    "# # XGBClassifier с автоподбором параметров\n",
    "# parametrs = { 'n_estimators': range(200, 501, 10),\n",
    "#               'learning_rate': [0.001, 0.003, 0.005, 0.008, 0.01, 0.02, 0.05, 0.07, 0.1, 0.2, 0.5],\n",
    "#               'max_depth': range(5,70),\n",
    "#               # 'num_leaves': range(30,80),\n",
    "#             }\n",
    "\n",
    "# xgb_clf = XGBClassifier(random_state=12345)\n",
    "# randCV_xgb = RandomizedSearchCV(xgb_clf, \n",
    "#                                 parametrs, \n",
    "#                                 scoring='f1_macro',\n",
    "#                                 cv=5,\n",
    "#                                 n_iter=10,\n",
    "#                                 n_jobs=-1,\n",
    "#                                 random_state=5555\n",
    "#                                )\n",
    "# randCV_xgb.fit(X, yy)\n",
    "# print('Параметры модели:', randCV_xgb.best_params_)\n",
    "# print('Лучший F1 модели:', randCV_xgb.best_score_)"
   ]
  },
  {
   "cell_type": "markdown",
   "metadata": {},
   "source": [
    "Параметры модели: {'n_estimators': 450, 'max_depth': 46, 'learning_rate': 0.05}\n",
    "Лучший F1 модели: 0.7766173673722121\n",
    "CPU times: total: 2min 33s\n",
    "Wall time: 7min 40s"
   ]
  },
  {
   "cell_type": "markdown",
   "metadata": {},
   "source": [
    "**Вывод**\n",
    "\n",
    "Модель XGB на тестовых данных показывает наихудшую метрику качества F1=0.760? хотя на кросвалидации она лучшая."
   ]
  },
  {
   "cell_type": "markdown",
   "metadata": {},
   "source": [
    "**Вывод**\n",
    "\n",
    "Наилучшее качество на тестовых данных показывает CatBoost, затем LightGbm и затем XGBoost. Для окончательного результата имеет смысл использовать технику blanding. Это должно увеличить итоговое качество модели и повысить стабильность её работы."
   ]
  },
  {
   "cell_type": "markdown",
   "metadata": {
    "id": "yjJp2a4dFmNJ"
   },
   "source": [
    "# 4. Cоздание файла с ответом\n",
    "\n",
    "1. Обучим модели CatBoost, LighiGBM и XGBoost на полном наборе тренировочного датасета.\n",
    "2. Прогнозируемые вероятности моделей полученные на тестовых данных смешаем в пропорции 5/3/2 и запишем результат в файл.\n",
    "3. Проанализируем важность признаков."
   ]
  },
  {
   "cell_type": "markdown",
   "metadata": {},
   "source": [
    "## 4.1 Обучение моделей на полном наборе тренировочных данных."
   ]
  },
  {
   "cell_type": "code",
   "execution_count": 60,
   "metadata": {},
   "outputs": [
    {
     "name": "stderr",
     "output_type": "stream",
     "text": [
      "A column-vector y was passed when a 1d array was expected. Please change the shape of y to (n_samples, ), for example using ravel().\n",
      "A column-vector y was passed when a 1d array was expected. Please change the shape of y to (n_samples, ), for example using ravel().\n"
     ]
    },
    {
     "data": {
      "text/plain": [
       "XGBClassifier(base_score=0.5, booster='gbtree', callbacks=None,\n",
       "              colsample_bylevel=1, colsample_bynode=1, colsample_bytree=1,\n",
       "              early_stopping_rounds=None, enable_categorical=False,\n",
       "              eval_metric=None, gamma=0, gpu_id=-1, grow_policy='depthwise',\n",
       "              importance_type=None, interaction_constraints='',\n",
       "              learning_rate=0.05, max_bin=256, max_cat_to_onehot=4,\n",
       "              max_delta_step=0, max_depth=46, max_leaves=0, min_child_weight=1,\n",
       "              missing=nan, monotone_constraints='()', n_estimators=450,\n",
       "              n_jobs=-1, num_parallel_tree=1, objective='multi:softprob',\n",
       "              predictor='auto', random_state=12345, reg_alpha=0, ...)"
      ]
     },
     "execution_count": 60,
     "metadata": {},
     "output_type": "execute_result"
    }
   ],
   "source": [
    "# обучаем модели на всём наборе данных\n",
    "cb_clf.fit(X, y, silent=True)\n",
    "lgbm_clf.fit(X_original, y)\n",
    "xgb_clf.fit(X, yy)"
   ]
  },
  {
   "cell_type": "markdown",
   "metadata": {},
   "source": [
    "## 4.2 Получение прогноза на тестовом датасете."
   ]
  },
  {
   "cell_type": "code",
   "execution_count": 61,
   "metadata": {},
   "outputs": [
    {
     "name": "stderr",
     "output_type": "stream",
     "text": [
      "\n",
      "A value is trying to be set on a copy of a slice from a DataFrame.\n",
      "Try using .loc[row_indexer,col_indexer] = value instead\n",
      "\n",
      "See the caveats in the documentation: https://pandas.pydata.org/pandas-docs/stable/user_guide/indexing.html#returning-a-view-versus-a-copy\n"
     ]
    }
   ],
   "source": [
    "# Получаем прогнозируемые вероятности классов\n",
    "X_submint = df_test[category_columns + numeric_columns + features_columns]\n",
    "lgb_proba = lgbm_clf.predict_proba(X_submint)\n",
    "\n",
    "X_submint[category_columns] = encoder.transform(X_submint[category_columns])\n",
    "cat_proba = cb_clf.predict_proba(X_submint)\n",
    "xgb_proba = xgb_clf.predict_proba(X_submint)\n",
    "\n"
   ]
  },
  {
   "cell_type": "code",
   "execution_count": 62,
   "metadata": {},
   "outputs": [
    {
     "data": {
      "text/html": [
       "<div>\n",
       "<style scoped>\n",
       "    .dataframe tbody tr th:only-of-type {\n",
       "        vertical-align: middle;\n",
       "    }\n",
       "\n",
       "    .dataframe tbody tr th {\n",
       "        vertical-align: top;\n",
       "    }\n",
       "\n",
       "    .dataframe thead th {\n",
       "        text-align: right;\n",
       "    }\n",
       "</style>\n",
       "<table border=\"1\" class=\"dataframe\">\n",
       "  <thead>\n",
       "    <tr style=\"text-align: right;\">\n",
       "      <th></th>\n",
       "      <th>ID</th>\n",
       "      <th>Статус</th>\n",
       "      <th>-1</th>\n",
       "      <th>3</th>\n",
       "      <th>4</th>\n",
       "    </tr>\n",
       "  </thead>\n",
       "  <tbody>\n",
       "    <tr>\n",
       "      <th>0</th>\n",
       "      <td>64996</td>\n",
       "      <td>NaN</td>\n",
       "      <td>0.003554</td>\n",
       "      <td>0.021154</td>\n",
       "      <td>0.975292</td>\n",
       "    </tr>\n",
       "    <tr>\n",
       "      <th>1</th>\n",
       "      <td>71837</td>\n",
       "      <td>NaN</td>\n",
       "      <td>0.021517</td>\n",
       "      <td>0.010742</td>\n",
       "      <td>0.967741</td>\n",
       "    </tr>\n",
       "    <tr>\n",
       "      <th>2</th>\n",
       "      <td>86587</td>\n",
       "      <td>NaN</td>\n",
       "      <td>0.334311</td>\n",
       "      <td>0.290339</td>\n",
       "      <td>0.375350</td>\n",
       "    </tr>\n",
       "    <tr>\n",
       "      <th>3</th>\n",
       "      <td>73673</td>\n",
       "      <td>NaN</td>\n",
       "      <td>0.868266</td>\n",
       "      <td>0.117788</td>\n",
       "      <td>0.013947</td>\n",
       "    </tr>\n",
       "    <tr>\n",
       "      <th>4</th>\n",
       "      <td>54709</td>\n",
       "      <td>NaN</td>\n",
       "      <td>0.000057</td>\n",
       "      <td>0.023855</td>\n",
       "      <td>0.976089</td>\n",
       "    </tr>\n",
       "  </tbody>\n",
       "</table>\n",
       "</div>"
      ],
      "text/plain": [
       "      ID  Статус        -1         3         4\n",
       "0  64996     NaN  0.003554  0.021154  0.975292\n",
       "1  71837     NaN  0.021517  0.010742  0.967741\n",
       "2  86587     NaN  0.334311  0.290339  0.375350\n",
       "3  73673     NaN  0.868266  0.117788  0.013947\n",
       "4  54709     NaN  0.000057  0.023855  0.976089"
      ]
     },
     "execution_count": 62,
     "metadata": {},
     "output_type": "execute_result"
    }
   ],
   "source": [
    "# Смешиваем в необходимых пропорциях\n",
    "df_submission[[-1,3,4]] = cat_proba*0.5 + lgb_proba*0.3 + xgb_proba*0.2\n",
    "\n",
    "df_submission.head()"
   ]
  },
  {
   "cell_type": "code",
   "execution_count": 63,
   "metadata": {},
   "outputs": [],
   "source": [
    "# Заполняем колонку целевого признака\n",
    "df_submission[\"Статус\"] = df_submission[[-1,3,4]].apply(lambda x: x.idxmax(), axis=1)"
   ]
  },
  {
   "cell_type": "code",
   "execution_count": 65,
   "metadata": {
    "colab": {
     "base_uri": "https://localhost:8080/",
     "height": 175
    },
    "id": "py7AM_IFBbe7",
    "outputId": "ec729ccd-fe60-40a5-bc41-bc4845a119e7"
   },
   "outputs": [
    {
     "data": {
      "text/html": [
       "<div>\n",
       "<style scoped>\n",
       "    .dataframe tbody tr th:only-of-type {\n",
       "        vertical-align: middle;\n",
       "    }\n",
       "\n",
       "    .dataframe tbody tr th {\n",
       "        vertical-align: top;\n",
       "    }\n",
       "\n",
       "    .dataframe thead th {\n",
       "        text-align: right;\n",
       "    }\n",
       "</style>\n",
       "<table border=\"1\" class=\"dataframe\">\n",
       "  <thead>\n",
       "    <tr style=\"text-align: right;\">\n",
       "      <th></th>\n",
       "      <th>ID</th>\n",
       "      <th>Статус</th>\n",
       "      <th>-1</th>\n",
       "      <th>3</th>\n",
       "      <th>4</th>\n",
       "    </tr>\n",
       "  </thead>\n",
       "  <tbody>\n",
       "    <tr>\n",
       "      <th>0</th>\n",
       "      <td>64996</td>\n",
       "      <td>4</td>\n",
       "      <td>0.003554</td>\n",
       "      <td>0.021154</td>\n",
       "      <td>0.975292</td>\n",
       "    </tr>\n",
       "    <tr>\n",
       "      <th>1</th>\n",
       "      <td>71837</td>\n",
       "      <td>4</td>\n",
       "      <td>0.021517</td>\n",
       "      <td>0.010742</td>\n",
       "      <td>0.967741</td>\n",
       "    </tr>\n",
       "    <tr>\n",
       "      <th>2</th>\n",
       "      <td>86587</td>\n",
       "      <td>4</td>\n",
       "      <td>0.334311</td>\n",
       "      <td>0.290339</td>\n",
       "      <td>0.375350</td>\n",
       "    </tr>\n",
       "    <tr>\n",
       "      <th>3</th>\n",
       "      <td>73673</td>\n",
       "      <td>-1</td>\n",
       "      <td>0.868266</td>\n",
       "      <td>0.117788</td>\n",
       "      <td>0.013947</td>\n",
       "    </tr>\n",
       "  </tbody>\n",
       "</table>\n",
       "</div>"
      ],
      "text/plain": [
       "      ID  Статус        -1         3         4\n",
       "0  64996       4  0.003554  0.021154  0.975292\n",
       "1  71837       4  0.021517  0.010742  0.967741\n",
       "2  86587       4  0.334311  0.290339  0.375350\n",
       "3  73673      -1  0.868266  0.117788  0.013947"
      ]
     },
     "execution_count": 65,
     "metadata": {},
     "output_type": "execute_result"
    }
   ],
   "source": [
    "# df_submission[\"Статус\"] = df_test_pred\n",
    "df_submission.head(4)"
   ]
  },
  {
   "cell_type": "code",
   "execution_count": 67,
   "metadata": {
    "id": "hiUyIdnWGgJu"
   },
   "outputs": [],
   "source": [
    "df_submission[['ID','Статус']].to_csv(\"submission_140 bag merge 5 3 2.csv\", index=False)"
   ]
  },
  {
   "cell_type": "markdown",
   "metadata": {
    "id": "aqxTaUVm2iiP"
   },
   "source": [
    "## 4.3 Оценка важности факторов"
   ]
  },
  {
   "cell_type": "code",
   "execution_count": 68,
   "metadata": {},
   "outputs": [
    {
     "name": "stderr",
     "output_type": "stream",
     "text": [
      "auto_size_plot=False is deprecated and is now ignored! Use plot_size=None instead.\n"
     ]
    },
    {
     "data": {
      "image/png": "[encoded data removed]",
      "text/plain": [
       "<Figure size 576x655.2 with 1 Axes>"
      ]
     },
     "metadata": {
      "needs_background": "light"
     },
     "output_type": "display_data"
    }
   ],
   "source": [
    "shap_test = shap.TreeExplainer(cb_clf).shap_values(X)\n",
    "shap.summary_plot(shap_test, X, max_display=25, auto_size_plot=True)"
   ]
  },
  {
   "cell_type": "markdown",
   "metadata": {},
   "source": [
    "**Вывод**\n",
    "\n",
    "1. С помощью модели CatBoostClassifier, удалось достичь метрики качества F1=0.7992 на закрытой части тестовых данных.\n",
    "2. С помоoщью техники блэндинга удалось увеличить метрику качества на 0.0002 до 0.7994. Надеюсь, блэнгдинг придаст результату стабильности, для достижения наилучшего результата на закрытой части тестового датасета.\n",
    "3. Анализ важности признаков говорит о том, что большой вклад в качество полученной модели внесли сгенерированные признаки `Количество студентов в группе` и `Код группы 2`."
   ]
  },
  {
   "cell_type": "markdown",
   "metadata": {},
   "source": [
    "# Общий вывод\n",
    "\n",
    "1. На этапе анализа данных были выявлены проблемные вопросы и особенности данных.\n",
    "2. На этапе обработки данных были обработаны пропуски, недостоверные данные и текстовые данные. Сгенерированы дополнительные признаки и подготовлены выборки. Не все признаки присутствующие в наборе данных и которые были дополнительно сгенерировы положительно влияли на качество модели.\n",
    "3. Были обучены несколько моделей машинного обучения, из которых наибольшее значение метрики качества показывала модель CatBoostClassifier.\n",
    "4. С помоoщью техники блэндинга удалось увеличить метрику качества на 0.0002 до 0.7994. Надеюсь, блэнгдинг придаст результату стабильности, для достижения наилучшего результата на закрытой части тестового датасета.\n",
    "4. На закрытой части тестового набора данных построенная модель показала F1=0.7994. Значительный вклад в качество модели внесли сгенерированные признаки `Количество студентов в группе` и `Код группы 2`."
   ]
  }
 ],
 "metadata": {
  "colab": {
   "name": "students_baseline.ipynb",
   "provenance": []
  },
  "kernelspec": {
   "display_name": "Python 3 (ipykernel)",
   "language": "python",
   "name": "python3"
  },
  "language_info": {
   "codemirror_mode": {
    "name": "ipython",
    "version": 3
   },
   "file_extension": ".py",
   "mimetype": "text/x-python",
   "name": "python",
   "nbconvert_exporter": "python",
   "pygments_lexer": "ipython3",
   "version": "3.9.12"
  }
 },
 "nbformat": 4,
 "nbformat_minor": 4
}
